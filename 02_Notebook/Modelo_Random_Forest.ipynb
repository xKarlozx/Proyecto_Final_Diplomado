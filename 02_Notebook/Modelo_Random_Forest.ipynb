{
  "nbformat": 4,
  "nbformat_minor": 0,
  "metadata": {
    "colab": {
      "provenance": []
    },
    "kernelspec": {
      "name": "python3",
      "display_name": "Python 3"
    },
    "language_info": {
      "name": "python"
    }
  },
  "cells": [
    {
      "cell_type": "code",
      "execution_count": null,
      "metadata": {
        "id": "1yKzz7RUXi7i"
      },
      "outputs": [],
      "source": [
        "# usando Modelo randomForestClassifier\n",
        "from sklearn.ensemble import RandomForestClassifier\n",
        "from sklearn.model_selection import train_test_split\n",
        "from sklearn.metrics import accuracy_score, classification_report, confusion_matrix,f1_score\n",
        "\n",
        "# Convertir 'Marca' a variable categórica\n",
        "df_ml['Marca'] = pd.Categorical(df_ml['Marca'])\n",
        "\n",
        "# Preparar los datos\n",
        "# Dividir datos en entrenamiento y prueba\n",
        "X = df_ml[['Marca','Sucursal', 'PrecioVenta']]\n",
        "y = df_ml['Nivel_ventas']\n",
        "X_train, X_test, y_train, y_test = train_test_split(X, y, test_size=0.2, random_state=42)\n",
        "\n",
        "# Convertir la columna 'Marca' a variables dummy (codificación one-hot)\n",
        "# Crear variables dummy para la columna 'Marca' en X_train\n",
        "dummies_train = pd.get_dummies(X_train['Marca'], drop_first=True)\n",
        "X_train = pd.concat([X_train.drop('Marca', axis=1), dummies_train], axis=1)\n",
        "\n",
        "# Crear variables dummy para la columna 'Sucursal' en X_train\n",
        "dummies_train = pd.get_dummies(X_train['Sucursal'], drop_first=True)\n",
        "X_train = pd.concat([X_train.drop('Sucursal', axis=1), dummies_train], axis=1)\n",
        "\n",
        "# Crear variables dummy para la columna 'Marca' en X_test\n",
        "dummies_test = pd.get_dummies(X_test['Marca'], drop_first=True)\n",
        "X_test = pd.concat([X_test.drop('Marca', axis=1), dummies_test], axis=1)\n",
        "\n",
        "# Crear variables dummy para la columna 'Sucursal' en X_test\n",
        "dummies_test = pd.get_dummies(X_test['Sucursal'], drop_first=True)\n",
        "X_test = pd.concat([X_test.drop('Sucursal', axis=1), dummies_test], axis=1)\n",
        "\n",
        "# Asegurar que X_train y X_test tengan las mismas columnas\n",
        "missing_cols = set(X_train.columns) - set(X_test.columns)\n",
        "for col in missing_cols:\n",
        "    X_test[col] = 0\n",
        "X_test = X_test[X_train.columns]\n",
        "\n",
        "# Entrenar el modelo de Random Forest\n",
        "rf_model = RandomForestClassifier(random_state=42, n_estimators=100)\n",
        "rf_model.fit(X_train, y_train)\n",
        "\n",
        "\n",
        "# Evaluar el modelo\n",
        "y_pred = rf_model.predict(X_test)\n",
        "\n",
        "# Reporte de clasificación\n",
        "print(\"Reporte de clasificación:\")\n",
        "print(classification_report(y_test, y_pred))\n",
        "\n",
        "# Calcular precisión\n",
        "print(\"===== Calcular precisión ====\")\n",
        "accuracy = accuracy_score(y_test, y_pred)\n",
        "print(f'accuracy: {accuracy:.2f}\\n')\n",
        "\n",
        "f1 = f1_score(y_test, y_pred, average='weighted')  # 'weighted' para manejar clases desbalanceadas\n",
        "print(f'F1-Score: {f1:.2f}\\n')\n",
        "\n",
        "# Matriz de confusión\n",
        "cm = confusion_matrix(y_test, y_pred)\n",
        "cm_df = pd.DataFrame(cm, index=rf_model.classes_, columns=rf_model.classes_)\n",
        "print(\"Matriz de Confusión:\\n\", cm_df)"
      ]
    }
  ]
}