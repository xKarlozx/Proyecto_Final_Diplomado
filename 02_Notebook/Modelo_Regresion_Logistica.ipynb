{
  "nbformat": 4,
  "nbformat_minor": 0,
  "metadata": {
    "colab": {
      "provenance": []
    },
    "kernelspec": {
      "name": "python3",
      "display_name": "Python 3"
    },
    "language_info": {
      "name": "python"
    }
  },
  "cells": [
    {
      "cell_type": "code",
      "execution_count": null,
      "metadata": {
        "id": "1yKzz7RUXi7i"
      },
      "outputs": [],
      "source": [
        "#Usando modelo LogisticRegression\n",
        "from sklearn.linear_model import LogisticRegression\n",
        "\n",
        "# Convertir marca a variable categórica\n",
        "#df_ml['Marca'] = pd.Categorical(df_ml['Marca'])\n",
        "\n",
        "#Preparar datos\n",
        "\n",
        "# Dividir datos en entrenamiento y prueba\n",
        "X = df_ml[['Marca','PrecioVenta']]\n",
        "y = df_ml['Nivel_ventas']\n",
        "X_train, X_test, y_train, y_test = train_test_split(X, y, test_size=0.2, random_state=42)\n",
        "\n",
        "# Convertir marca a variable numérica\n",
        "# Crear variables dummy para la columna 'Marca' sin asignarla directamente a 'X_train['Marca']'\n",
        "dummies = pd.get_dummies(X_train['Marca'], drop_first=True)\n",
        "\n",
        "# Concatenar las variables dummy con el DataFrame original y eliminar la columna original 'Marca'\n",
        "X_train = pd.concat([X_train.drop('Marca', axis=1), dummies], axis=1)\n",
        "\n",
        "# Generar variables dummy para la columna 'Marca' en X_test\n",
        "dummies_test = pd.get_dummies(X_test['Marca'], drop_first=True)\n",
        "\n",
        "# Concatenar las variables dummy con el DataFrame original X_test y eliminar la columna 'Marca'\n",
        "X_test = pd.concat([X_test.drop('Marca', axis=1), dummies_test], axis=1)\n",
        "\n",
        "\n",
        "#Entrenar modelo\n",
        "\n",
        "# Entrenar modelo de regresión logística\n",
        "model = LogisticRegression()\n",
        "model.fit(X_train, y_train)\n",
        "\n",
        "#Evaluar modelo\n",
        "\n",
        "# Predecir resultados\n",
        "y_pred = model.predict(X_test)\n",
        "\n",
        "# Evaluar precisión\n",
        "accuracy = accuracy_score(y_test, y_pred)\n",
        "print(f'Precisión: {accuracy:.2f}\\n')\n",
        "\n",
        "f1 = f1_score(y_test, y_pred, average='weighted')\n",
        "print(f'F1-Score: {f1:.2f}\\n')\n",
        "\n",
        "# Evaluar clasificación\n",
        "print(classification_report(y_test, y_pred))\n",
        "\n",
        "# Evaluar Matriz de confusión\n",
        "cm = confusion_matrix(y_test, y_pred)\n",
        "cm_df = pd.DataFrame(cm, index=model.classes_, columns=model.classes_)\n",
        "print(\"Matriz de Confusión:\\n\", cm_df)\n",
        "\n",
        "# Intercept del modelo\n",
        "print(\"Intercept:\")\n",
        "print(model.intercept_)"
      ]
    }
  ]
}