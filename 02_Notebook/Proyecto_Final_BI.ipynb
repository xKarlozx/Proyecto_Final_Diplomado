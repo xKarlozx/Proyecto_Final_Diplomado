{
  "nbformat": 4,
  "nbformat_minor": 0,
  "metadata": {
    "colab": {
      "provenance": [],
      "collapsed_sections": [
        "3R2NxjcQZzvQ"
      ]
    },
    "kernelspec": {
      "name": "python3",
      "display_name": "Python 3"
    },
    "language_info": {
      "name": "python"
    }
  },
  "cells": [
    {
      "cell_type": "markdown",
      "source": [
        "# ANALISIS EXPLORATORIO DE DATOS"
      ],
      "metadata": {
        "id": "ng-TR6qGrO13"
      }
    },
    {
      "cell_type": "markdown",
      "source": [
        "### IMPORTAR LIBRERIAS"
      ],
      "metadata": {
        "id": "MKUOBPsiKK1w"
      }
    },
    {
      "cell_type": "code",
      "source": [
        "# librerías utilizadas para el analisis del proyecto\n",
        "import numpy as np\n",
        "import pandas as pd\n",
        "import matplotlib.pyplot as plt\n",
        "%matplotlib inline\n",
        "import seaborn as sns"
      ],
      "metadata": {
        "id": "mU92c65BKN-D"
      },
      "execution_count": null,
      "outputs": []
    },
    {
      "cell_type": "markdown",
      "source": [
        "### CARGA DEL DATASET"
      ],
      "metadata": {
        "id": "ANoZnP39rr1r"
      }
    },
    {
      "cell_type": "markdown",
      "source": [
        "Información del area de Ventas\n",
        " -- importación de los datos"
      ],
      "metadata": {
        "id": "ejI_fsyyr_Nb"
      }
    },
    {
      "cell_type": "code",
      "source": [
        "# Lectura de los datos desde el drive de google, archivo excel\n",
        "from google.colab import drive\n",
        "drive.mount('/gdrive', force_remount=True)\n",
        "\n",
        "ruta = \"/gdrive/MyDrive/dataset/VentasRango.xlsx\"\n",
        "df_data = pd.read_excel(ruta)"
      ],
      "metadata": {
        "id": "0ykGJ2sR89pp",
        "colab": {
          "base_uri": "https://localhost:8080/"
        },
        "outputId": "3ff6f5d0-b32d-4ee2-e83b-b8a19e5bfc68"
      },
      "execution_count": null,
      "outputs": [
        {
          "output_type": "stream",
          "name": "stdout",
          "text": [
            "Mounted at /gdrive\n"
          ]
        }
      ]
    },
    {
      "cell_type": "code",
      "source": [
        "df_data"
      ],
      "metadata": {
        "colab": {
          "base_uri": "https://localhost:8080/",
          "height": 981
        },
        "id": "qLaV6cUvJtfd",
        "outputId": "e0e68615-f72e-4be6-b709-20b3b59a3e4e"
      },
      "execution_count": null,
      "outputs": [
        {
          "output_type": "execute_result",
          "data": {
            "text/plain": [
              "           IdProd                                        Descripcion     ID  \\\n",
              "0          133001                        ASPIRADORA 1400W BTA 133001   1333   \n",
              "1         4007325                      COMPRESOR EINHELL DE 24LITROS    695   \n",
              "2      00013245.3     CABLE DE SOLDAR MIG LYNUS AWS E71T-GS 1KG 0,8M    381   \n",
              "3        FTS18001                               SIERRA DE MESA 1800W    396   \n",
              "4         MO.5221                          ESCALERA MULTIFUNCION 4X3    130   \n",
              "...           ...                                                ...    ...   \n",
              "20878    FI-44477  CARRITO DE CARGA PROFESIONAL DE 300 KG CON ROD...  22694   \n",
              "20879  HKTHP11081  JUEGO DE HERRAMIENTAS 108 PIEZAS CON TALADRO 680W  13730   \n",
              "20880  MCD1211155  DISCO DE CORTE METAL 4 1/2\" GALLETA CAJA DE 25...   7083   \n",
              "20881       MS001          SIERRA DE INGLETE TELESCOPICA 1800W MS001   1557   \n",
              "20882     VPM3708                                 BOMBA DE AGUA 370W  23801   \n",
              "\n",
              "         Sucursal                        Vendedor  \\\n",
              "0      Santa Cruz  Karen Angelica Navia Gutierrez   \n",
              "1      Santa Cruz          FRANCO MARISCAL TORREZ   \n",
              "2      Santa Cruz                  NATALIA ROMERO   \n",
              "3      Santa Cruz   Angie Johanna Carmona Salcedo   \n",
              "4      Santa Cruz   Angie Johanna Carmona Salcedo   \n",
              "...           ...                             ...   \n",
              "20878  Santa Cruz               Tienda Santa Cruz   \n",
              "20879  COCHABAMBA               Tienda Cochabamba   \n",
              "20880  COCHABAMBA               Tienda Cochabamba   \n",
              "20881       Oruro                    Tienda Oruro   \n",
              "20882       Oruro                    Tienda Oruro   \n",
              "\n",
              "                              Cliente  FechaVenta FechaCierre  Cantidad  \\\n",
              "0                        DANY SANCHEZ  2022-01-10  2022-01-11       1.0   \n",
              "1                     ROLANDO CONDORI  2022-01-10  2022-01-11       1.0   \n",
              "2                            SANTIAGO  2022-01-10  2022-01-11       1.0   \n",
              "3                       ADALID TORREZ  2022-01-10  2022-01-11       1.0   \n",
              "4                           ALEXANDER  2022-01-10  2022-01-11       1.0   \n",
              "...                               ...         ...         ...       ...   \n",
              "20878                   JOSE BENJAMIN  2023-07-08  2023-07-10       1.0   \n",
              "20879                  RICHARD CHOQUE  2023-07-08         NaN       1.0   \n",
              "20880  MIGUEL ANGEL MOSCOSO GUTIERREZ  2023-07-08         NaN       2.0   \n",
              "20881                     EDGAR CORIA  2023-07-08         NaN       1.0   \n",
              "20882           ALBERTO AMARU CONDORI  2023-07-08         NaN       1.0   \n",
              "\n",
              "       PrecioCompra  PrecioVenta  PrecioFinal  ComisionUnit  ComisionTotal  \\\n",
              "0           1315.00       1650.0       1650.0         150.0          150.0   \n",
              "1            837.00        950.0        950.0          80.0           80.0   \n",
              "2             75.00        125.0        125.0          30.0           30.0   \n",
              "3           1285.10       1400.0       1300.0          50.0           50.0   \n",
              "4            435.00        550.0        550.0          50.0           50.0   \n",
              "...             ...          ...          ...           ...            ...   \n",
              "20878        665.26        899.0        899.0           NaN            NaN   \n",
              "20879        555.00        750.0        700.0           NaN            NaN   \n",
              "20880          4.07          5.5          6.0           NaN            NaN   \n",
              "20881       1221.00       1650.0       1650.0           NaN            NaN   \n",
              "20882        234.30        340.0        340.0           NaN            NaN   \n",
              "\n",
              "        Total  Utilidad       Marca                                 Proveedor  \n",
              "0      1650.0    185.00         BTA                             VADIKO S.R.L.  \n",
              "1       950.0     33.00     EINHELL                               BAUMANN SRL  \n",
              "2       125.0     20.00       LYNUS                              FORZA S.R.L.  \n",
              "3      1300.0    -35.10       LYNUS                              FORZA S.R.L.  \n",
              "4       550.0     65.00  TRAMONTINA  CABEZAS IMPORTACIONES Y REPRESENTACIONES  \n",
              "...       ...       ...         ...                                       ...  \n",
              "20878   899.0    233.74       FIERO                           SARUMADI S.R.L.  \n",
              "20879   700.0    145.00       INGCO                              DAJER S.R.L.  \n",
              "20880    12.0      3.86       INGCO                              DAJER S.R.L.  \n",
              "20881  1650.0    429.00      MAKUTE                            MIOMETAL S.R.L  \n",
              "20882   340.0    105.70       INGCO                              DAJER S.R.L.  \n",
              "\n",
              "[20883 rows x 18 columns]"
            ],
            "text/html": [
              "\n",
              "  <div id=\"df-964b07de-32b6-4762-9932-2cad1598aa59\" class=\"colab-df-container\">\n",
              "    <div>\n",
              "<style scoped>\n",
              "    .dataframe tbody tr th:only-of-type {\n",
              "        vertical-align: middle;\n",
              "    }\n",
              "\n",
              "    .dataframe tbody tr th {\n",
              "        vertical-align: top;\n",
              "    }\n",
              "\n",
              "    .dataframe thead th {\n",
              "        text-align: right;\n",
              "    }\n",
              "</style>\n",
              "<table border=\"1\" class=\"dataframe\">\n",
              "  <thead>\n",
              "    <tr style=\"text-align: right;\">\n",
              "      <th></th>\n",
              "      <th>IdProd</th>\n",
              "      <th>Descripcion</th>\n",
              "      <th>ID</th>\n",
              "      <th>Sucursal</th>\n",
              "      <th>Vendedor</th>\n",
              "      <th>Cliente</th>\n",
              "      <th>FechaVenta</th>\n",
              "      <th>FechaCierre</th>\n",
              "      <th>Cantidad</th>\n",
              "      <th>PrecioCompra</th>\n",
              "      <th>PrecioVenta</th>\n",
              "      <th>PrecioFinal</th>\n",
              "      <th>ComisionUnit</th>\n",
              "      <th>ComisionTotal</th>\n",
              "      <th>Total</th>\n",
              "      <th>Utilidad</th>\n",
              "      <th>Marca</th>\n",
              "      <th>Proveedor</th>\n",
              "    </tr>\n",
              "  </thead>\n",
              "  <tbody>\n",
              "    <tr>\n",
              "      <th>0</th>\n",
              "      <td>133001</td>\n",
              "      <td>ASPIRADORA 1400W BTA 133001</td>\n",
              "      <td>1333</td>\n",
              "      <td>Santa Cruz</td>\n",
              "      <td>Karen Angelica Navia Gutierrez</td>\n",
              "      <td>DANY SANCHEZ</td>\n",
              "      <td>2022-01-10</td>\n",
              "      <td>2022-01-11</td>\n",
              "      <td>1.0</td>\n",
              "      <td>1315.00</td>\n",
              "      <td>1650.0</td>\n",
              "      <td>1650.0</td>\n",
              "      <td>150.0</td>\n",
              "      <td>150.0</td>\n",
              "      <td>1650.0</td>\n",
              "      <td>185.00</td>\n",
              "      <td>BTA</td>\n",
              "      <td>VADIKO S.R.L.</td>\n",
              "    </tr>\n",
              "    <tr>\n",
              "      <th>1</th>\n",
              "      <td>4007325</td>\n",
              "      <td>COMPRESOR EINHELL DE 24LITROS</td>\n",
              "      <td>695</td>\n",
              "      <td>Santa Cruz</td>\n",
              "      <td>FRANCO MARISCAL TORREZ</td>\n",
              "      <td>ROLANDO CONDORI</td>\n",
              "      <td>2022-01-10</td>\n",
              "      <td>2022-01-11</td>\n",
              "      <td>1.0</td>\n",
              "      <td>837.00</td>\n",
              "      <td>950.0</td>\n",
              "      <td>950.0</td>\n",
              "      <td>80.0</td>\n",
              "      <td>80.0</td>\n",
              "      <td>950.0</td>\n",
              "      <td>33.00</td>\n",
              "      <td>EINHELL</td>\n",
              "      <td>BAUMANN SRL</td>\n",
              "    </tr>\n",
              "    <tr>\n",
              "      <th>2</th>\n",
              "      <td>00013245.3</td>\n",
              "      <td>CABLE DE SOLDAR MIG LYNUS AWS E71T-GS 1KG 0,8M</td>\n",
              "      <td>381</td>\n",
              "      <td>Santa Cruz</td>\n",
              "      <td>NATALIA ROMERO</td>\n",
              "      <td>SANTIAGO</td>\n",
              "      <td>2022-01-10</td>\n",
              "      <td>2022-01-11</td>\n",
              "      <td>1.0</td>\n",
              "      <td>75.00</td>\n",
              "      <td>125.0</td>\n",
              "      <td>125.0</td>\n",
              "      <td>30.0</td>\n",
              "      <td>30.0</td>\n",
              "      <td>125.0</td>\n",
              "      <td>20.00</td>\n",
              "      <td>LYNUS</td>\n",
              "      <td>FORZA S.R.L.</td>\n",
              "    </tr>\n",
              "    <tr>\n",
              "      <th>3</th>\n",
              "      <td>FTS18001</td>\n",
              "      <td>SIERRA DE MESA 1800W</td>\n",
              "      <td>396</td>\n",
              "      <td>Santa Cruz</td>\n",
              "      <td>Angie Johanna Carmona Salcedo</td>\n",
              "      <td>ADALID TORREZ</td>\n",
              "      <td>2022-01-10</td>\n",
              "      <td>2022-01-11</td>\n",
              "      <td>1.0</td>\n",
              "      <td>1285.10</td>\n",
              "      <td>1400.0</td>\n",
              "      <td>1300.0</td>\n",
              "      <td>50.0</td>\n",
              "      <td>50.0</td>\n",
              "      <td>1300.0</td>\n",
              "      <td>-35.10</td>\n",
              "      <td>LYNUS</td>\n",
              "      <td>FORZA S.R.L.</td>\n",
              "    </tr>\n",
              "    <tr>\n",
              "      <th>4</th>\n",
              "      <td>MO.5221</td>\n",
              "      <td>ESCALERA MULTIFUNCION 4X3</td>\n",
              "      <td>130</td>\n",
              "      <td>Santa Cruz</td>\n",
              "      <td>Angie Johanna Carmona Salcedo</td>\n",
              "      <td>ALEXANDER</td>\n",
              "      <td>2022-01-10</td>\n",
              "      <td>2022-01-11</td>\n",
              "      <td>1.0</td>\n",
              "      <td>435.00</td>\n",
              "      <td>550.0</td>\n",
              "      <td>550.0</td>\n",
              "      <td>50.0</td>\n",
              "      <td>50.0</td>\n",
              "      <td>550.0</td>\n",
              "      <td>65.00</td>\n",
              "      <td>TRAMONTINA</td>\n",
              "      <td>CABEZAS IMPORTACIONES Y REPRESENTACIONES</td>\n",
              "    </tr>\n",
              "    <tr>\n",
              "      <th>...</th>\n",
              "      <td>...</td>\n",
              "      <td>...</td>\n",
              "      <td>...</td>\n",
              "      <td>...</td>\n",
              "      <td>...</td>\n",
              "      <td>...</td>\n",
              "      <td>...</td>\n",
              "      <td>...</td>\n",
              "      <td>...</td>\n",
              "      <td>...</td>\n",
              "      <td>...</td>\n",
              "      <td>...</td>\n",
              "      <td>...</td>\n",
              "      <td>...</td>\n",
              "      <td>...</td>\n",
              "      <td>...</td>\n",
              "      <td>...</td>\n",
              "      <td>...</td>\n",
              "    </tr>\n",
              "    <tr>\n",
              "      <th>20878</th>\n",
              "      <td>FI-44477</td>\n",
              "      <td>CARRITO DE CARGA PROFESIONAL DE 300 KG CON ROD...</td>\n",
              "      <td>22694</td>\n",
              "      <td>Santa Cruz</td>\n",
              "      <td>Tienda Santa Cruz</td>\n",
              "      <td>JOSE BENJAMIN</td>\n",
              "      <td>2023-07-08</td>\n",
              "      <td>2023-07-10</td>\n",
              "      <td>1.0</td>\n",
              "      <td>665.26</td>\n",
              "      <td>899.0</td>\n",
              "      <td>899.0</td>\n",
              "      <td>NaN</td>\n",
              "      <td>NaN</td>\n",
              "      <td>899.0</td>\n",
              "      <td>233.74</td>\n",
              "      <td>FIERO</td>\n",
              "      <td>SARUMADI S.R.L.</td>\n",
              "    </tr>\n",
              "    <tr>\n",
              "      <th>20879</th>\n",
              "      <td>HKTHP11081</td>\n",
              "      <td>JUEGO DE HERRAMIENTAS 108 PIEZAS CON TALADRO 680W</td>\n",
              "      <td>13730</td>\n",
              "      <td>COCHABAMBA</td>\n",
              "      <td>Tienda Cochabamba</td>\n",
              "      <td>RICHARD CHOQUE</td>\n",
              "      <td>2023-07-08</td>\n",
              "      <td>NaN</td>\n",
              "      <td>1.0</td>\n",
              "      <td>555.00</td>\n",
              "      <td>750.0</td>\n",
              "      <td>700.0</td>\n",
              "      <td>NaN</td>\n",
              "      <td>NaN</td>\n",
              "      <td>700.0</td>\n",
              "      <td>145.00</td>\n",
              "      <td>INGCO</td>\n",
              "      <td>DAJER S.R.L.</td>\n",
              "    </tr>\n",
              "    <tr>\n",
              "      <th>20880</th>\n",
              "      <td>MCD1211155</td>\n",
              "      <td>DISCO DE CORTE METAL 4 1/2\" GALLETA CAJA DE 25...</td>\n",
              "      <td>7083</td>\n",
              "      <td>COCHABAMBA</td>\n",
              "      <td>Tienda Cochabamba</td>\n",
              "      <td>MIGUEL ANGEL MOSCOSO GUTIERREZ</td>\n",
              "      <td>2023-07-08</td>\n",
              "      <td>NaN</td>\n",
              "      <td>2.0</td>\n",
              "      <td>4.07</td>\n",
              "      <td>5.5</td>\n",
              "      <td>6.0</td>\n",
              "      <td>NaN</td>\n",
              "      <td>NaN</td>\n",
              "      <td>12.0</td>\n",
              "      <td>3.86</td>\n",
              "      <td>INGCO</td>\n",
              "      <td>DAJER S.R.L.</td>\n",
              "    </tr>\n",
              "    <tr>\n",
              "      <th>20881</th>\n",
              "      <td>MS001</td>\n",
              "      <td>SIERRA DE INGLETE TELESCOPICA 1800W MS001</td>\n",
              "      <td>1557</td>\n",
              "      <td>Oruro</td>\n",
              "      <td>Tienda Oruro</td>\n",
              "      <td>EDGAR CORIA</td>\n",
              "      <td>2023-07-08</td>\n",
              "      <td>NaN</td>\n",
              "      <td>1.0</td>\n",
              "      <td>1221.00</td>\n",
              "      <td>1650.0</td>\n",
              "      <td>1650.0</td>\n",
              "      <td>NaN</td>\n",
              "      <td>NaN</td>\n",
              "      <td>1650.0</td>\n",
              "      <td>429.00</td>\n",
              "      <td>MAKUTE</td>\n",
              "      <td>MIOMETAL S.R.L</td>\n",
              "    </tr>\n",
              "    <tr>\n",
              "      <th>20882</th>\n",
              "      <td>VPM3708</td>\n",
              "      <td>BOMBA DE AGUA 370W</td>\n",
              "      <td>23801</td>\n",
              "      <td>Oruro</td>\n",
              "      <td>Tienda Oruro</td>\n",
              "      <td>ALBERTO AMARU CONDORI</td>\n",
              "      <td>2023-07-08</td>\n",
              "      <td>NaN</td>\n",
              "      <td>1.0</td>\n",
              "      <td>234.30</td>\n",
              "      <td>340.0</td>\n",
              "      <td>340.0</td>\n",
              "      <td>NaN</td>\n",
              "      <td>NaN</td>\n",
              "      <td>340.0</td>\n",
              "      <td>105.70</td>\n",
              "      <td>INGCO</td>\n",
              "      <td>DAJER S.R.L.</td>\n",
              "    </tr>\n",
              "  </tbody>\n",
              "</table>\n",
              "<p>20883 rows × 18 columns</p>\n",
              "</div>\n",
              "    <div class=\"colab-df-buttons\">\n",
              "\n",
              "  <div class=\"colab-df-container\">\n",
              "    <button class=\"colab-df-convert\" onclick=\"convertToInteractive('df-964b07de-32b6-4762-9932-2cad1598aa59')\"\n",
              "            title=\"Convert this dataframe to an interactive table.\"\n",
              "            style=\"display:none;\">\n",
              "\n",
              "  <svg xmlns=\"http://www.w3.org/2000/svg\" height=\"24px\" viewBox=\"0 -960 960 960\">\n",
              "    <path d=\"M120-120v-720h720v720H120Zm60-500h600v-160H180v160Zm220 220h160v-160H400v160Zm0 220h160v-160H400v160ZM180-400h160v-160H180v160Zm440 0h160v-160H620v160ZM180-180h160v-160H180v160Zm440 0h160v-160H620v160Z\"/>\n",
              "  </svg>\n",
              "    </button>\n",
              "\n",
              "  <style>\n",
              "    .colab-df-container {\n",
              "      display:flex;\n",
              "      gap: 12px;\n",
              "    }\n",
              "\n",
              "    .colab-df-convert {\n",
              "      background-color: #E8F0FE;\n",
              "      border: none;\n",
              "      border-radius: 50%;\n",
              "      cursor: pointer;\n",
              "      display: none;\n",
              "      fill: #1967D2;\n",
              "      height: 32px;\n",
              "      padding: 0 0 0 0;\n",
              "      width: 32px;\n",
              "    }\n",
              "\n",
              "    .colab-df-convert:hover {\n",
              "      background-color: #E2EBFA;\n",
              "      box-shadow: 0px 1px 2px rgba(60, 64, 67, 0.3), 0px 1px 3px 1px rgba(60, 64, 67, 0.15);\n",
              "      fill: #174EA6;\n",
              "    }\n",
              "\n",
              "    .colab-df-buttons div {\n",
              "      margin-bottom: 4px;\n",
              "    }\n",
              "\n",
              "    [theme=dark] .colab-df-convert {\n",
              "      background-color: #3B4455;\n",
              "      fill: #D2E3FC;\n",
              "    }\n",
              "\n",
              "    [theme=dark] .colab-df-convert:hover {\n",
              "      background-color: #434B5C;\n",
              "      box-shadow: 0px 1px 3px 1px rgba(0, 0, 0, 0.15);\n",
              "      filter: drop-shadow(0px 1px 2px rgba(0, 0, 0, 0.3));\n",
              "      fill: #FFFFFF;\n",
              "    }\n",
              "  </style>\n",
              "\n",
              "    <script>\n",
              "      const buttonEl =\n",
              "        document.querySelector('#df-964b07de-32b6-4762-9932-2cad1598aa59 button.colab-df-convert');\n",
              "      buttonEl.style.display =\n",
              "        google.colab.kernel.accessAllowed ? 'block' : 'none';\n",
              "\n",
              "      async function convertToInteractive(key) {\n",
              "        const element = document.querySelector('#df-964b07de-32b6-4762-9932-2cad1598aa59');\n",
              "        const dataTable =\n",
              "          await google.colab.kernel.invokeFunction('convertToInteractive',\n",
              "                                                    [key], {});\n",
              "        if (!dataTable) return;\n",
              "\n",
              "        const docLinkHtml = 'Like what you see? Visit the ' +\n",
              "          '<a target=\"_blank\" href=https://colab.research.google.com/notebooks/data_table.ipynb>data table notebook</a>'\n",
              "          + ' to learn more about interactive tables.';\n",
              "        element.innerHTML = '';\n",
              "        dataTable['output_type'] = 'display_data';\n",
              "        await google.colab.output.renderOutput(dataTable, element);\n",
              "        const docLink = document.createElement('div');\n",
              "        docLink.innerHTML = docLinkHtml;\n",
              "        element.appendChild(docLink);\n",
              "      }\n",
              "    </script>\n",
              "  </div>\n",
              "\n",
              "\n",
              "<div id=\"df-9ee5bd49-e123-48ab-bc3a-392888edc6db\">\n",
              "  <button class=\"colab-df-quickchart\" onclick=\"quickchart('df-9ee5bd49-e123-48ab-bc3a-392888edc6db')\"\n",
              "            title=\"Suggest charts\"\n",
              "            style=\"display:none;\">\n",
              "\n",
              "<svg xmlns=\"http://www.w3.org/2000/svg\" height=\"24px\"viewBox=\"0 0 24 24\"\n",
              "     width=\"24px\">\n",
              "    <g>\n",
              "        <path d=\"M19 3H5c-1.1 0-2 .9-2 2v14c0 1.1.9 2 2 2h14c1.1 0 2-.9 2-2V5c0-1.1-.9-2-2-2zM9 17H7v-7h2v7zm4 0h-2V7h2v10zm4 0h-2v-4h2v4z\"/>\n",
              "    </g>\n",
              "</svg>\n",
              "  </button>\n",
              "\n",
              "<style>\n",
              "  .colab-df-quickchart {\n",
              "      --bg-color: #E8F0FE;\n",
              "      --fill-color: #1967D2;\n",
              "      --hover-bg-color: #E2EBFA;\n",
              "      --hover-fill-color: #174EA6;\n",
              "      --disabled-fill-color: #AAA;\n",
              "      --disabled-bg-color: #DDD;\n",
              "  }\n",
              "\n",
              "  [theme=dark] .colab-df-quickchart {\n",
              "      --bg-color: #3B4455;\n",
              "      --fill-color: #D2E3FC;\n",
              "      --hover-bg-color: #434B5C;\n",
              "      --hover-fill-color: #FFFFFF;\n",
              "      --disabled-bg-color: #3B4455;\n",
              "      --disabled-fill-color: #666;\n",
              "  }\n",
              "\n",
              "  .colab-df-quickchart {\n",
              "    background-color: var(--bg-color);\n",
              "    border: none;\n",
              "    border-radius: 50%;\n",
              "    cursor: pointer;\n",
              "    display: none;\n",
              "    fill: var(--fill-color);\n",
              "    height: 32px;\n",
              "    padding: 0;\n",
              "    width: 32px;\n",
              "  }\n",
              "\n",
              "  .colab-df-quickchart:hover {\n",
              "    background-color: var(--hover-bg-color);\n",
              "    box-shadow: 0 1px 2px rgba(60, 64, 67, 0.3), 0 1px 3px 1px rgba(60, 64, 67, 0.15);\n",
              "    fill: var(--button-hover-fill-color);\n",
              "  }\n",
              "\n",
              "  .colab-df-quickchart-complete:disabled,\n",
              "  .colab-df-quickchart-complete:disabled:hover {\n",
              "    background-color: var(--disabled-bg-color);\n",
              "    fill: var(--disabled-fill-color);\n",
              "    box-shadow: none;\n",
              "  }\n",
              "\n",
              "  .colab-df-spinner {\n",
              "    border: 2px solid var(--fill-color);\n",
              "    border-color: transparent;\n",
              "    border-bottom-color: var(--fill-color);\n",
              "    animation:\n",
              "      spin 1s steps(1) infinite;\n",
              "  }\n",
              "\n",
              "  @keyframes spin {\n",
              "    0% {\n",
              "      border-color: transparent;\n",
              "      border-bottom-color: var(--fill-color);\n",
              "      border-left-color: var(--fill-color);\n",
              "    }\n",
              "    20% {\n",
              "      border-color: transparent;\n",
              "      border-left-color: var(--fill-color);\n",
              "      border-top-color: var(--fill-color);\n",
              "    }\n",
              "    30% {\n",
              "      border-color: transparent;\n",
              "      border-left-color: var(--fill-color);\n",
              "      border-top-color: var(--fill-color);\n",
              "      border-right-color: var(--fill-color);\n",
              "    }\n",
              "    40% {\n",
              "      border-color: transparent;\n",
              "      border-right-color: var(--fill-color);\n",
              "      border-top-color: var(--fill-color);\n",
              "    }\n",
              "    60% {\n",
              "      border-color: transparent;\n",
              "      border-right-color: var(--fill-color);\n",
              "    }\n",
              "    80% {\n",
              "      border-color: transparent;\n",
              "      border-right-color: var(--fill-color);\n",
              "      border-bottom-color: var(--fill-color);\n",
              "    }\n",
              "    90% {\n",
              "      border-color: transparent;\n",
              "      border-bottom-color: var(--fill-color);\n",
              "    }\n",
              "  }\n",
              "</style>\n",
              "\n",
              "  <script>\n",
              "    async function quickchart(key) {\n",
              "      const quickchartButtonEl =\n",
              "        document.querySelector('#' + key + ' button');\n",
              "      quickchartButtonEl.disabled = true;  // To prevent multiple clicks.\n",
              "      quickchartButtonEl.classList.add('colab-df-spinner');\n",
              "      try {\n",
              "        const charts = await google.colab.kernel.invokeFunction(\n",
              "            'suggestCharts', [key], {});\n",
              "      } catch (error) {\n",
              "        console.error('Error during call to suggestCharts:', error);\n",
              "      }\n",
              "      quickchartButtonEl.classList.remove('colab-df-spinner');\n",
              "      quickchartButtonEl.classList.add('colab-df-quickchart-complete');\n",
              "    }\n",
              "    (() => {\n",
              "      let quickchartButtonEl =\n",
              "        document.querySelector('#df-9ee5bd49-e123-48ab-bc3a-392888edc6db button');\n",
              "      quickchartButtonEl.style.display =\n",
              "        google.colab.kernel.accessAllowed ? 'block' : 'none';\n",
              "    })();\n",
              "  </script>\n",
              "</div>\n",
              "\n",
              "  <div id=\"id_55168175-5b7f-4749-9a92-e0d0eb3cb8f2\">\n",
              "    <style>\n",
              "      .colab-df-generate {\n",
              "        background-color: #E8F0FE;\n",
              "        border: none;\n",
              "        border-radius: 50%;\n",
              "        cursor: pointer;\n",
              "        display: none;\n",
              "        fill: #1967D2;\n",
              "        height: 32px;\n",
              "        padding: 0 0 0 0;\n",
              "        width: 32px;\n",
              "      }\n",
              "\n",
              "      .colab-df-generate:hover {\n",
              "        background-color: #E2EBFA;\n",
              "        box-shadow: 0px 1px 2px rgba(60, 64, 67, 0.3), 0px 1px 3px 1px rgba(60, 64, 67, 0.15);\n",
              "        fill: #174EA6;\n",
              "      }\n",
              "\n",
              "      [theme=dark] .colab-df-generate {\n",
              "        background-color: #3B4455;\n",
              "        fill: #D2E3FC;\n",
              "      }\n",
              "\n",
              "      [theme=dark] .colab-df-generate:hover {\n",
              "        background-color: #434B5C;\n",
              "        box-shadow: 0px 1px 3px 1px rgba(0, 0, 0, 0.15);\n",
              "        filter: drop-shadow(0px 1px 2px rgba(0, 0, 0, 0.3));\n",
              "        fill: #FFFFFF;\n",
              "      }\n",
              "    </style>\n",
              "    <button class=\"colab-df-generate\" onclick=\"generateWithVariable('df_data')\"\n",
              "            title=\"Generate code using this dataframe.\"\n",
              "            style=\"display:none;\">\n",
              "\n",
              "  <svg xmlns=\"http://www.w3.org/2000/svg\" height=\"24px\"viewBox=\"0 0 24 24\"\n",
              "       width=\"24px\">\n",
              "    <path d=\"M7,19H8.4L18.45,9,17,7.55,7,17.6ZM5,21V16.75L18.45,3.32a2,2,0,0,1,2.83,0l1.4,1.43a1.91,1.91,0,0,1,.58,1.4,1.91,1.91,0,0,1-.58,1.4L9.25,21ZM18.45,9,17,7.55Zm-12,3A5.31,5.31,0,0,0,4.9,8.1,5.31,5.31,0,0,0,1,6.5,5.31,5.31,0,0,0,4.9,4.9,5.31,5.31,0,0,0,6.5,1,5.31,5.31,0,0,0,8.1,4.9,5.31,5.31,0,0,0,12,6.5,5.46,5.46,0,0,0,6.5,12Z\"/>\n",
              "  </svg>\n",
              "    </button>\n",
              "    <script>\n",
              "      (() => {\n",
              "      const buttonEl =\n",
              "        document.querySelector('#id_55168175-5b7f-4749-9a92-e0d0eb3cb8f2 button.colab-df-generate');\n",
              "      buttonEl.style.display =\n",
              "        google.colab.kernel.accessAllowed ? 'block' : 'none';\n",
              "\n",
              "      buttonEl.onclick = () => {\n",
              "        google.colab.notebook.generateWithVariable('df_data');\n",
              "      }\n",
              "      })();\n",
              "    </script>\n",
              "  </div>\n",
              "\n",
              "    </div>\n",
              "  </div>\n"
            ],
            "application/vnd.google.colaboratory.intrinsic+json": {
              "type": "dataframe",
              "variable_name": "df_data",
              "summary": "{\n  \"name\": \"df_data\",\n  \"rows\": 20883,\n  \"fields\": [\n    {\n      \"column\": \"IdProd\",\n      \"properties\": {\n        \"dtype\": \"category\",\n        \"num_unique_values\": 3299,\n        \"samples\": [\n          11528,\n          \"43156/305\",\n          \"FBL40001\"\n        ],\n        \"semantic_type\": \"\",\n        \"description\": \"\"\n      }\n    },\n    {\n      \"column\": \"Descripcion\",\n      \"properties\": {\n        \"dtype\": \"category\",\n        \"num_unique_values\": 3391,\n        \"samples\": [\n          \"RODILLERAS ULTRA LIJERA DE ESPUMA DE POLIE\",\n          \"GRAPAS PARA ENGRAPADORA NEUMATICA DE 3/4\\\" C/5000PZ\",\n          \"LENTES ROJOS DE SEGURIDAD USO DE NIVEL LASER\"\n        ],\n        \"semantic_type\": \"\",\n        \"description\": \"\"\n      }\n    },\n    {\n      \"column\": \"ID\",\n      \"properties\": {\n        \"dtype\": \"number\",\n        \"std\": 5204,\n        \"min\": 1,\n        \"max\": 24028,\n        \"num_unique_values\": 6106,\n        \"samples\": [\n          1201,\n          565,\n          1436\n        ],\n        \"semantic_type\": \"\",\n        \"description\": \"\"\n      }\n    },\n    {\n      \"column\": \"Sucursal\",\n      \"properties\": {\n        \"dtype\": \"category\",\n        \"num_unique_values\": 6,\n        \"samples\": [\n          \"Santa Cruz\",\n          \"Oruro\",\n          \"COCHABAMBA\"\n        ],\n        \"semantic_type\": \"\",\n        \"description\": \"\"\n      }\n    },\n    {\n      \"column\": \"Vendedor\",\n      \"properties\": {\n        \"dtype\": \"category\",\n        \"num_unique_values\": 115,\n        \"samples\": [\n          \"EDDY EDGAR FLORES CHOQUE\",\n          \"PABLO SOLORZANO\",\n          \"SYDNEY VIVIAN  HINOJOSA LEDEZMA\"\n        ],\n        \"semantic_type\": \"\",\n        \"description\": \"\"\n      }\n    },\n    {\n      \"column\": \"Cliente\",\n      \"properties\": {\n        \"dtype\": \"category\",\n        \"num_unique_values\": 8289,\n        \"samples\": [\n          \"CLAUDIA MENDIETA\",\n          \"ARMANDO NINA HURTADO\",\n          \"CARRIZO\"\n        ],\n        \"semantic_type\": \"\",\n        \"description\": \"\"\n      }\n    },\n    {\n      \"column\": \"FechaVenta\",\n      \"properties\": {\n        \"dtype\": \"object\",\n        \"num_unique_values\": 471,\n        \"samples\": [\n          \"2022-03-16\",\n          \"2022-04-06\",\n          \"2022-02-17\"\n        ],\n        \"semantic_type\": \"\",\n        \"description\": \"\"\n      }\n    },\n    {\n      \"column\": \"FechaCierre\",\n      \"properties\": {\n        \"dtype\": \"object\",\n        \"num_unique_values\": 453,\n        \"samples\": [\n          \"2023-03-09\",\n          \"2022-02-23\",\n          \"2023-03-21\"\n        ],\n        \"semantic_type\": \"\",\n        \"description\": \"\"\n      }\n    },\n    {\n      \"column\": \"Cantidad\",\n      \"properties\": {\n        \"dtype\": \"number\",\n        \"std\": 2.0669654940750277,\n        \"min\": 1.0,\n        \"max\": 100.0,\n        \"num_unique_values\": 31,\n        \"samples\": [\n          24.0,\n          90.0,\n          14.0\n        ],\n        \"semantic_type\": \"\",\n        \"description\": \"\"\n      }\n    },\n    {\n      \"column\": \"PrecioCompra\",\n      \"properties\": {\n        \"dtype\": \"number\",\n        \"std\": 691.5523026420893,\n        \"min\": 1.0,\n        \"max\": 12043.0,\n        \"num_unique_values\": 3003,\n        \"samples\": [\n          1523.0,\n          137.64,\n          105.16\n        ],\n        \"semantic_type\": \"\",\n        \"description\": \"\"\n      }\n    },\n    {\n      \"column\": \"PrecioVenta\",\n      \"properties\": {\n        \"dtype\": \"number\",\n        \"std\": 860.6483988082641,\n        \"min\": 1.04,\n        \"max\": 14500.0,\n        \"num_unique_values\": 606,\n        \"samples\": [\n          799.0,\n          2470.0,\n          1750.0\n        ],\n        \"semantic_type\": \"\",\n        \"description\": \"\"\n      }\n    },\n    {\n      \"column\": \"PrecioFinal\",\n      \"properties\": {\n        \"dtype\": \"number\",\n        \"std\": 862.3114897334759,\n        \"min\": 2.0,\n        \"max\": 14500.0,\n        \"num_unique_values\": 907,\n        \"samples\": [\n          87.5,\n          84.0,\n          3.6\n        ],\n        \"semantic_type\": \"\",\n        \"description\": \"\"\n      }\n    },\n    {\n      \"column\": \"ComisionUnit\",\n      \"properties\": {\n        \"dtype\": \"number\",\n        \"std\": 83.6980969839654,\n        \"min\": -750.0,\n        \"max\": 4681.0,\n        \"num_unique_values\": 235,\n        \"samples\": [\n          35.0,\n          36.0,\n          230.0\n        ],\n        \"semantic_type\": \"\",\n        \"description\": \"\"\n      }\n    },\n    {\n      \"column\": \"ComisionTotal\",\n      \"properties\": {\n        \"dtype\": \"number\",\n        \"std\": 99.2174833521882,\n        \"min\": -750.0,\n        \"max\": 4681.0,\n        \"num_unique_values\": 267,\n        \"samples\": [\n          -134.0,\n          -42.0,\n          2.0\n        ],\n        \"semantic_type\": \"\",\n        \"description\": \"\"\n      }\n    },\n    {\n      \"column\": \"Total\",\n      \"properties\": {\n        \"dtype\": \"number\",\n        \"std\": 996.2259339409084,\n        \"min\": 2.0,\n        \"max\": 38500.0,\n        \"num_unique_values\": 1027,\n        \"samples\": [\n          805.0,\n          2080.0,\n          169.0\n        ],\n        \"semantic_type\": \"\",\n        \"description\": \"\"\n      }\n    },\n    {\n      \"column\": \"Utilidad\",\n      \"properties\": {\n        \"dtype\": \"number\",\n        \"std\": 277.72358085072057,\n        \"min\": -15067.2,\n        \"max\": 7294.0,\n        \"num_unique_values\": 4272,\n        \"samples\": [\n          67.75,\n          51.04,\n          95.0\n        ],\n        \"semantic_type\": \"\",\n        \"description\": \"\"\n      }\n    },\n    {\n      \"column\": \"Marca\",\n      \"properties\": {\n        \"dtype\": \"category\",\n        \"num_unique_values\": 120,\n        \"samples\": [\n          \"DREMEL\",\n          \"SIERRITA\",\n          \"TRUPER\"\n        ],\n        \"semantic_type\": \"\",\n        \"description\": \"\"\n      }\n    },\n    {\n      \"column\": \"Proveedor\",\n      \"properties\": {\n        \"dtype\": \"category\",\n        \"num_unique_values\": 50,\n        \"samples\": [\n          \"TRADE BOLIVIA S.R.L.\",\n          \"CRISANT SRL\",\n          \"SALCEDO IMPORTACIONES S.R.L,\"\n        ],\n        \"semantic_type\": \"\",\n        \"description\": \"\"\n      }\n    }\n  ]\n}"
            }
          },
          "metadata": {},
          "execution_count": 4
        }
      ]
    },
    {
      "cell_type": "code",
      "source": [
        "#Tamaño del dataset\n",
        "print(df_data.shape)"
      ],
      "metadata": {
        "id": "6gVo-OtdH9m7",
        "colab": {
          "base_uri": "https://localhost:8080/"
        },
        "outputId": "98471ce7-7032-42ce-bee2-ffbae9437093"
      },
      "execution_count": null,
      "outputs": [
        {
          "output_type": "stream",
          "name": "stdout",
          "text": [
            "(20883, 18)\n"
          ]
        }
      ]
    },
    {
      "cell_type": "markdown",
      "source": [
        "### INFORMACION DATASET"
      ],
      "metadata": {
        "id": "lYjGCJcKF8zV"
      }
    },
    {
      "cell_type": "markdown",
      "source": [
        "La información extraida del sistema de ventas de la Tienda de Herramientas se encuentra en un archivo .xlsx (VentasRango.xlsx) con 20887 filas y 18 columnas.\n",
        "\n",
        "Cada registro contiene 18 características de una venta con datos del vendedor, cliente, fecha de la venta,detalles precios y la herramienta. Las columnas son:\n",
        "\n",
        "1. \"idProd\": Identificador general de la herramienta.\n",
        "2. \"Descripcion\": Nombre y detalle especifico de la herramienta\n",
        "3. \"ID\": Identificador de la herramienta segun el deposito de origen.\n",
        "4. \"Sucursal\": Ubicación de la herramienta segun la ciudad donde se escuentra la tienda (categórica: \"Oruro\", \"La Paz\", \"Cochabamba\", \"Santa Cruz\")\n",
        "5. \"Vendedor\": Nombre del vendedor encargado de la tienda o del vendedor freelancer.\n",
        "6. \"Cliente\": Nombre del cliente\n",
        "7. \"FechaVenta\": Fecha cuando se realizo la venta de la herramienta\n",
        "8. \"FechaCierre\": Fecha cuando se realizo la tranferencia de caja a la cuenta bancaria de la empresa.\n",
        "9. \"Cantidad\": Cantidad que se vendio de la misma herramienta (numerico entero)\n",
        "10. \"PrecioCompra\": Precio de compra de la herramienta (numérico decimal)\n",
        "11. \"PrecioVenta\": Precio de venta de la herramienta (numérico decimal)\n",
        "12. \"PrecioFinal\": Precio Final de la venta de la herramientas despues de gastos como (descuento o comisiones a los vendedores)\n",
        "13. \"comisiónUnit\": monto percibido por la venta de la herramienta vendida por el vendedor (numérico decimal)\n",
        "14. \"comisionTotal\": monto total para cancelar al vendedor por venta realizada (cantidad * comisionUnit)\n",
        "15. \"Total\": Monto total de la venta (cantidad * PrecioFinal)\n",
        "16. \"Utilidad\": Monto de utilidad por venta realizada (Total - comisionTotal)\n",
        "17. \"Marca\": Nombre de la Marca de faricación de la herramienta(categórica)\n",
        "18. \"Proveedor\": Nombre de la empresa de quien se importan las herramientas (categórica)"
      ],
      "metadata": {
        "id": "X1tyg1ffaauT"
      }
    },
    {
      "cell_type": "code",
      "source": [
        "#informacion de los datos en general\n",
        "df_data.info()"
      ],
      "metadata": {
        "id": "BJsw_PG4WXY8",
        "colab": {
          "base_uri": "https://localhost:8080/"
        },
        "outputId": "ac909246-1821-4d9d-f450-656d0debf97b"
      },
      "execution_count": null,
      "outputs": [
        {
          "output_type": "stream",
          "name": "stdout",
          "text": [
            "<class 'pandas.core.frame.DataFrame'>\n",
            "RangeIndex: 20883 entries, 0 to 20882\n",
            "Data columns (total 18 columns):\n",
            " #   Column         Non-Null Count  Dtype  \n",
            "---  ------         --------------  -----  \n",
            " 0   IdProd         20883 non-null  object \n",
            " 1   Descripcion    20883 non-null  object \n",
            " 2   ID             20883 non-null  int64  \n",
            " 3   Sucursal       20883 non-null  object \n",
            " 4   Vendedor       20883 non-null  object \n",
            " 5   Cliente        20883 non-null  object \n",
            " 6   FechaVenta     20883 non-null  object \n",
            " 7   FechaCierre    20781 non-null  object \n",
            " 8   Cantidad       20839 non-null  float64\n",
            " 9   PrecioCompra   20883 non-null  float64\n",
            " 10  PrecioVenta    20882 non-null  float64\n",
            " 11  PrecioFinal    20870 non-null  float64\n",
            " 12  ComisionUnit   9617 non-null   float64\n",
            " 13  ComisionTotal  9617 non-null   float64\n",
            " 14  Total          20838 non-null  float64\n",
            " 15  Utilidad       20883 non-null  float64\n",
            " 16  Marca          20883 non-null  object \n",
            " 17  Proveedor      20883 non-null  object \n",
            "dtypes: float64(8), int64(1), object(9)\n",
            "memory usage: 2.9+ MB\n"
          ]
        }
      ]
    },
    {
      "cell_type": "markdown",
      "source": [
        "# LIMPIEZA DE DATOS"
      ],
      "metadata": {
        "id": "AgjKJswu_yes"
      }
    },
    {
      "cell_type": "markdown",
      "source": [
        "#### ANÁLISIS DE NULOS"
      ],
      "metadata": {
        "id": "vGiowxrFAISz"
      }
    },
    {
      "cell_type": "code",
      "source": [
        "df_data.isna().sum().sort_values(ascending = False)"
      ],
      "metadata": {
        "colab": {
          "base_uri": "https://localhost:8080/",
          "height": 648
        },
        "id": "fwC8vuktAsTg",
        "outputId": "23f8c58f-0dd6-4c69-ffe1-370dba9bfc9c"
      },
      "execution_count": null,
      "outputs": [
        {
          "output_type": "execute_result",
          "data": {
            "text/plain": [
              "ComisionTotal    11266\n",
              "ComisionUnit     11266\n",
              "FechaCierre        102\n",
              "Total               45\n",
              "Cantidad            44\n",
              "PrecioFinal         13\n",
              "PrecioVenta          1\n",
              "IdProd               0\n",
              "Marca                0\n",
              "Utilidad             0\n",
              "PrecioCompra         0\n",
              "Descripcion          0\n",
              "FechaVenta           0\n",
              "Cliente              0\n",
              "Vendedor             0\n",
              "Sucursal             0\n",
              "ID                   0\n",
              "Proveedor            0\n",
              "dtype: int64"
            ],
            "text/html": [
              "<div>\n",
              "<style scoped>\n",
              "    .dataframe tbody tr th:only-of-type {\n",
              "        vertical-align: middle;\n",
              "    }\n",
              "\n",
              "    .dataframe tbody tr th {\n",
              "        vertical-align: top;\n",
              "    }\n",
              "\n",
              "    .dataframe thead th {\n",
              "        text-align: right;\n",
              "    }\n",
              "</style>\n",
              "<table border=\"1\" class=\"dataframe\">\n",
              "  <thead>\n",
              "    <tr style=\"text-align: right;\">\n",
              "      <th></th>\n",
              "      <th>0</th>\n",
              "    </tr>\n",
              "  </thead>\n",
              "  <tbody>\n",
              "    <tr>\n",
              "      <th>ComisionTotal</th>\n",
              "      <td>11266</td>\n",
              "    </tr>\n",
              "    <tr>\n",
              "      <th>ComisionUnit</th>\n",
              "      <td>11266</td>\n",
              "    </tr>\n",
              "    <tr>\n",
              "      <th>FechaCierre</th>\n",
              "      <td>102</td>\n",
              "    </tr>\n",
              "    <tr>\n",
              "      <th>Total</th>\n",
              "      <td>45</td>\n",
              "    </tr>\n",
              "    <tr>\n",
              "      <th>Cantidad</th>\n",
              "      <td>44</td>\n",
              "    </tr>\n",
              "    <tr>\n",
              "      <th>PrecioFinal</th>\n",
              "      <td>13</td>\n",
              "    </tr>\n",
              "    <tr>\n",
              "      <th>PrecioVenta</th>\n",
              "      <td>1</td>\n",
              "    </tr>\n",
              "    <tr>\n",
              "      <th>IdProd</th>\n",
              "      <td>0</td>\n",
              "    </tr>\n",
              "    <tr>\n",
              "      <th>Marca</th>\n",
              "      <td>0</td>\n",
              "    </tr>\n",
              "    <tr>\n",
              "      <th>Utilidad</th>\n",
              "      <td>0</td>\n",
              "    </tr>\n",
              "    <tr>\n",
              "      <th>PrecioCompra</th>\n",
              "      <td>0</td>\n",
              "    </tr>\n",
              "    <tr>\n",
              "      <th>Descripcion</th>\n",
              "      <td>0</td>\n",
              "    </tr>\n",
              "    <tr>\n",
              "      <th>FechaVenta</th>\n",
              "      <td>0</td>\n",
              "    </tr>\n",
              "    <tr>\n",
              "      <th>Cliente</th>\n",
              "      <td>0</td>\n",
              "    </tr>\n",
              "    <tr>\n",
              "      <th>Vendedor</th>\n",
              "      <td>0</td>\n",
              "    </tr>\n",
              "    <tr>\n",
              "      <th>Sucursal</th>\n",
              "      <td>0</td>\n",
              "    </tr>\n",
              "    <tr>\n",
              "      <th>ID</th>\n",
              "      <td>0</td>\n",
              "    </tr>\n",
              "    <tr>\n",
              "      <th>Proveedor</th>\n",
              "      <td>0</td>\n",
              "    </tr>\n",
              "  </tbody>\n",
              "</table>\n",
              "</div><br><label><b>dtype:</b> int64</label>"
            ]
          },
          "metadata": {},
          "execution_count": 7
        }
      ]
    },
    {
      "cell_type": "markdown",
      "source": [
        "Conclusiones:\n",
        "\n",
        "* ComisiónTotal y ComisiónUnit --> tienen varios resgistro nulos, pero la razon es que los productos fueron vendidos por los encargados de la tienda y no asi por los vendedores freelance.Por tanto los registro deben tener el valor numerico de \"0\".\n",
        "*ID y FechaCierre --> no representa una variable importante para el analisis por tanto se eliminara la columna.\n",
        "* Total --> los valores nulos significa que la venta fue fallida, por lo tanto se debe eliminar dichos registros\n"
      ],
      "metadata": {
        "id": "DdU8ENJRBpRV"
      }
    },
    {
      "cell_type": "code",
      "source": [
        "# Modificar valores nulos de ComisiónTotal y ComisiónUnit por el valor numerico de \"0\"\n",
        "df_data[\"ComisionUnit\"] = df_data[\"ComisionUnit\"].fillna(0)\n",
        "df_data[\"ComisionTotal\"] = df_data[\"ComisionTotal\"].fillna(0)\n",
        "\n",
        "# Eliminar filas con valores nulos en la columna 'Total' ya que la venta no es valida\n",
        "df_data = df_data.dropna(subset=['Total'])"
      ],
      "metadata": {
        "id": "kinZPEw1IPMI"
      },
      "execution_count": null,
      "outputs": []
    },
    {
      "cell_type": "code",
      "source": [],
      "metadata": {
        "id": "a0R2t5b5v29E"
      },
      "execution_count": null,
      "outputs": []
    },
    {
      "cell_type": "markdown",
      "source": [
        "#### ERRORES TIPOGRAFICOS"
      ],
      "metadata": {
        "id": "Hqxr9pH6RXfn"
      }
    },
    {
      "cell_type": "code",
      "source": [
        "cols_cat = ['Sucursal']\n",
        "for col in cols_cat:\n",
        "    print(df_data[col].value_counts().sort_index())  # Ordena alfabéticamente por índice (valor único)\n",
        "    print('-'*20)"
      ],
      "metadata": {
        "colab": {
          "base_uri": "https://localhost:8080/"
        },
        "id": "yBWzEnVcTXfw",
        "outputId": "66ec41b0-6019-4616-a1af-5e6e92f51dce"
      },
      "execution_count": null,
      "outputs": [
        {
          "output_type": "stream",
          "name": "stdout",
          "text": [
            "Sucursal\n",
            "COCHABAMBA    3467\n",
            "Cochabamba    7375\n",
            "La Paz        3056\n",
            "Oruro         2015\n",
            "Santa Cruz    3631\n",
            "Sta cruz      1294\n",
            "Name: count, dtype: int64\n",
            "--------------------\n"
          ]
        }
      ]
    },
    {
      "cell_type": "code",
      "source": [
        "cols_cat = ['Proveedor']\n",
        "for col in cols_cat:\n",
        "    print(df_data[col].value_counts().sort_index())  # Ordena alfabéticamente por índice (valor único)\n",
        "    print('-'*20)"
      ],
      "metadata": {
        "colab": {
          "base_uri": "https://localhost:8080/"
        },
        "id": "qbUFgFR9RduH",
        "outputId": "01f3407a-2a3a-4130-a059-9b6bca21761b"
      },
      "execution_count": null,
      "outputs": [
        {
          "output_type": "stream",
          "name": "stdout",
          "text": [
            "Proveedor\n",
            "ABDIAS PATICK                                     7\n",
            "ABELCO IMPORTADORA MAYORISTA                      5\n",
            "BAUMANN SRL                                     807\n",
            "BLEICHNER INDUSTRIA Y COMERCIO  S.A.             10\n",
            "CABEZAS IMPORTACIONES Y REPRESENTACIONES       1594\n",
            "CARLOS SALAZAR                                   21\n",
            "COBAR LUBRICANTES                                11\n",
            "COMERCIAL FAMA                                  379\n",
            "COMERCIAL VOCAL                                 127\n",
            "COMPANEX                                          3\n",
            "CORONA                                            1\n",
            "CRISANT SRL                                       5\n",
            "CRISTHIAN IMPORTADOR                             70\n",
            "DAJER S.R.L.                                   1839\n",
            "DAJERS                                            5\n",
            "DISTRIBUIDORA CROWN                              27\n",
            "DISTRIBUIDORA MAQKER                              3\n",
            "FERRESXPRESS                                      5\n",
            "FERROBLACK                                       57\n",
            "FINISIERRA                                        8\n",
            "FORZA S.R.L.                                   5387\n",
            "FORZA SRL                                        20\n",
            "GERARDO DE LA PAMPA                               3\n",
            "HANSA LTDA                                      692\n",
            "IMPORTADORA RAMOS                                29\n",
            "INDUSTRIAS MACA SANTIVAÑEZ LTDA                  22\n",
            "INTERVEST                                         3\n",
            "KAPERN BOLIVIA SRL                                3\n",
            "KILA IMPORTACIONES                              296\n",
            "LIJASBOL HERMES                                  16\n",
            "MAMIER S.R.L.                                    28\n",
            "MANU FACTURAS ROS.ALEXIS                          1\n",
            "MIOMETAL S.R.L                                 2788\n",
            "MUEBLETEK                                        40\n",
            "MUEBLETEKA IMPORTACIONES Y REPRESENTACIONES      28\n",
            "PROVEEDOR NACIONAL                                7\n",
            "ROGHUR                                           18\n",
            "ROGHUR S.A.                                    1049\n",
            "ROYAL                                             7\n",
            "SALCEDO IMPORTACIONES S.R.L,                     32\n",
            "SALCEDO IMPORTACIONES S.R.L.                   4879\n",
            "SARUMADI S.R.L.                                  75\n",
            "SUICH BOLIVIA                                     4\n",
            "TERMODINAMICA LTDA                               17\n",
            "TOTAL TOOLS DISTRIBUTION EXPERTS                  4\n",
            "TRADE BOLIVIA S.R.L.                             43\n",
            "VADIKO                                          179\n",
            "VADIKO S.R.L.                                   155\n",
            "WAKO IMPORTACIONES Y REPRESENTACIONES SRL        26\n",
            "XIMCRUZ                                           3\n",
            "Name: count, dtype: int64\n",
            "--------------------\n"
          ]
        }
      ]
    },
    {
      "cell_type": "code",
      "source": [
        "cols_cat = ['Marca']\n",
        "for col in cols_cat:\n",
        "    print(df_data[col].value_counts().sort_index())  # Ordena alfabéticamente por índice (valor único)\n",
        "    print('-'*60)"
      ],
      "metadata": {
        "colab": {
          "base_uri": "https://localhost:8080/"
        },
        "id": "5NE-DhS7Rrcl",
        "outputId": "f267c8e6-f136-45cd-a0d1-db689e15b670"
      },
      "execution_count": null,
      "outputs": [
        {
          "output_type": "stream",
          "name": "stdout",
          "text": [
            "Marca\n",
            " MASTERG       3\n",
            "-SIN MARCA     4\n",
            "3M             3\n",
            "AEG            4\n",
            "ALASKA        37\n",
            "              ..\n",
            "UYUSTOOLS     50\n",
            "VOLTECK       32\n",
            "WEB-OS         1\n",
            "ZEUS          57\n",
            "neo            2\n",
            "Name: count, Length: 120, dtype: int64\n",
            "------------------------------------------------------------\n"
          ]
        }
      ]
    },
    {
      "cell_type": "code",
      "source": [
        "#Poner todo en mayuscula\n",
        "df_data['Sucursal'] = df_data['Sucursal'].str.upper()\n",
        "\n",
        "# Reemplazar 'STA CRUZ' por 'SANTA CRUZ' en la columna 'Sucursal'\n",
        "df_data['Sucursal'] = df_data['Sucursal'].replace('STA CRUZ', 'SANTA CRUZ')"
      ],
      "metadata": {
        "id": "ayugzOimYcHo",
        "colab": {
          "base_uri": "https://localhost:8080/"
        },
        "outputId": "eacfce43-45c6-445d-f618-6b441b5f6c14"
      },
      "execution_count": null,
      "outputs": [
        {
          "output_type": "stream",
          "name": "stderr",
          "text": [
            "<ipython-input-12-b1c2ed3742ed>:2: SettingWithCopyWarning: \n",
            "A value is trying to be set on a copy of a slice from a DataFrame.\n",
            "Try using .loc[row_indexer,col_indexer] = value instead\n",
            "\n",
            "See the caveats in the documentation: https://pandas.pydata.org/pandas-docs/stable/user_guide/indexing.html#returning-a-view-versus-a-copy\n",
            "  df_data['Sucursal'] = df_data['Sucursal'].str.upper()\n",
            "<ipython-input-12-b1c2ed3742ed>:5: SettingWithCopyWarning: \n",
            "A value is trying to be set on a copy of a slice from a DataFrame.\n",
            "Try using .loc[row_indexer,col_indexer] = value instead\n",
            "\n",
            "See the caveats in the documentation: https://pandas.pydata.org/pandas-docs/stable/user_guide/indexing.html#returning-a-view-versus-a-copy\n",
            "  df_data['Sucursal'] = df_data['Sucursal'].replace('STA CRUZ', 'SANTA CRUZ')\n"
          ]
        }
      ]
    },
    {
      "cell_type": "markdown",
      "source": [
        "* Deposito tiene las mismas ciudades pero escritas de forma diferentes.\n",
        "  * Cochabamba y COCHABAMBA --> Cambiar toda a Mayuscula\n",
        "  * Sta Cruz y Santa Cruz  --> Cambiar a SANTA CRUZ\n",
        "  * Oruro y La Paz  --> Cambiar todo a Mayuscula"
      ],
      "metadata": {
        "id": "l-v9zUdGfMfY"
      }
    },
    {
      "cell_type": "code",
      "source": [
        "#Corregir los nombres de los proveedores\n",
        "df_data['Proveedor'] = df_data['Proveedor'].str.replace('VADIKO S.R.L.','VADIKO', regex=False)\n",
        "df_data['Proveedor'] = df_data['Proveedor'].str.replace('ROGHUR S.A.','ROGHUR', regex=False)\n",
        "df_data['Proveedor'] = df_data['Proveedor'].str.replace('SALCEDO IMPORTACIONES S.R.L,','SALCEDO IMPORTACIONES S.R.L.', regex=False)\n",
        "df_data['Proveedor'] = df_data['Proveedor'].str.replace('DAJER S.R.L.','DAJERS', regex=False)\n",
        "df_data['Proveedor'] = df_data['Proveedor'].str.replace('FORZA S.R.L.','FORZA SRL', regex=False)\n",
        "df_data['Proveedor'] = df_data['Proveedor'].str.replace('MUEBLETEKA IMPORTACIONES Y REPRESENTACIONES','MUEBLETEK', regex=False)"
      ],
      "metadata": {
        "id": "l4Vr_0i5YgMM",
        "colab": {
          "base_uri": "https://localhost:8080/"
        },
        "outputId": "40194664-3fb5-4718-8044-0dd5c42ead8e"
      },
      "execution_count": null,
      "outputs": [
        {
          "output_type": "stream",
          "name": "stderr",
          "text": [
            "<ipython-input-13-9af8a7f32a9f>:2: SettingWithCopyWarning: \n",
            "A value is trying to be set on a copy of a slice from a DataFrame.\n",
            "Try using .loc[row_indexer,col_indexer] = value instead\n",
            "\n",
            "See the caveats in the documentation: https://pandas.pydata.org/pandas-docs/stable/user_guide/indexing.html#returning-a-view-versus-a-copy\n",
            "  df_data['Proveedor'] = df_data['Proveedor'].str.replace('VADIKO S.R.L.','VADIKO', regex=False)\n",
            "<ipython-input-13-9af8a7f32a9f>:3: SettingWithCopyWarning: \n",
            "A value is trying to be set on a copy of a slice from a DataFrame.\n",
            "Try using .loc[row_indexer,col_indexer] = value instead\n",
            "\n",
            "See the caveats in the documentation: https://pandas.pydata.org/pandas-docs/stable/user_guide/indexing.html#returning-a-view-versus-a-copy\n",
            "  df_data['Proveedor'] = df_data['Proveedor'].str.replace('ROGHUR S.A.','ROGHUR', regex=False)\n",
            "<ipython-input-13-9af8a7f32a9f>:4: SettingWithCopyWarning: \n",
            "A value is trying to be set on a copy of a slice from a DataFrame.\n",
            "Try using .loc[row_indexer,col_indexer] = value instead\n",
            "\n",
            "See the caveats in the documentation: https://pandas.pydata.org/pandas-docs/stable/user_guide/indexing.html#returning-a-view-versus-a-copy\n",
            "  df_data['Proveedor'] = df_data['Proveedor'].str.replace('SALCEDO IMPORTACIONES S.R.L,','SALCEDO IMPORTACIONES S.R.L.', regex=False)\n",
            "<ipython-input-13-9af8a7f32a9f>:5: SettingWithCopyWarning: \n",
            "A value is trying to be set on a copy of a slice from a DataFrame.\n",
            "Try using .loc[row_indexer,col_indexer] = value instead\n",
            "\n",
            "See the caveats in the documentation: https://pandas.pydata.org/pandas-docs/stable/user_guide/indexing.html#returning-a-view-versus-a-copy\n",
            "  df_data['Proveedor'] = df_data['Proveedor'].str.replace('DAJER S.R.L.','DAJERS', regex=False)\n",
            "<ipython-input-13-9af8a7f32a9f>:6: SettingWithCopyWarning: \n",
            "A value is trying to be set on a copy of a slice from a DataFrame.\n",
            "Try using .loc[row_indexer,col_indexer] = value instead\n",
            "\n",
            "See the caveats in the documentation: https://pandas.pydata.org/pandas-docs/stable/user_guide/indexing.html#returning-a-view-versus-a-copy\n",
            "  df_data['Proveedor'] = df_data['Proveedor'].str.replace('FORZA S.R.L.','FORZA SRL', regex=False)\n",
            "<ipython-input-13-9af8a7f32a9f>:7: SettingWithCopyWarning: \n",
            "A value is trying to be set on a copy of a slice from a DataFrame.\n",
            "Try using .loc[row_indexer,col_indexer] = value instead\n",
            "\n",
            "See the caveats in the documentation: https://pandas.pydata.org/pandas-docs/stable/user_guide/indexing.html#returning-a-view-versus-a-copy\n",
            "  df_data['Proveedor'] = df_data['Proveedor'].str.replace('MUEBLETEKA IMPORTACIONES Y REPRESENTACIONES','MUEBLETEK', regex=False)\n"
          ]
        }
      ]
    },
    {
      "cell_type": "markdown",
      "source": [
        "#### TIPO DE DATOS PARA LAS VARAIBLES"
      ],
      "metadata": {
        "id": "bXGAJg5Xa7nA"
      }
    },
    {
      "cell_type": "code",
      "source": [
        "#Cambiar tipo de dato de decimal a entero\n",
        "df_data['Cantidad'] = df_data['Cantidad'].astype(int)\n",
        "\n",
        "#Corregir el formato de fecha a datatime\n",
        "df_data['FechaVenta'] = pd.to_datetime(df_data['FechaVenta'],format=\"%Y-%m-%d\")"
      ],
      "metadata": {
        "id": "cl8y9FGXbd3d",
        "colab": {
          "base_uri": "https://localhost:8080/"
        },
        "outputId": "f6e0d51b-2ad7-4274-b95d-9a1a92a22a01"
      },
      "execution_count": null,
      "outputs": [
        {
          "output_type": "stream",
          "name": "stderr",
          "text": [
            "<ipython-input-14-f5f7bb5ae4db>:2: SettingWithCopyWarning: \n",
            "A value is trying to be set on a copy of a slice from a DataFrame.\n",
            "Try using .loc[row_indexer,col_indexer] = value instead\n",
            "\n",
            "See the caveats in the documentation: https://pandas.pydata.org/pandas-docs/stable/user_guide/indexing.html#returning-a-view-versus-a-copy\n",
            "  df_data['Cantidad'] = df_data['Cantidad'].astype(int)\n",
            "<ipython-input-14-f5f7bb5ae4db>:5: SettingWithCopyWarning: \n",
            "A value is trying to be set on a copy of a slice from a DataFrame.\n",
            "Try using .loc[row_indexer,col_indexer] = value instead\n",
            "\n",
            "See the caveats in the documentation: https://pandas.pydata.org/pandas-docs/stable/user_guide/indexing.html#returning-a-view-versus-a-copy\n",
            "  df_data['FechaVenta'] = pd.to_datetime(df_data['FechaVenta'],format=\"%Y-%m-%d\")\n"
          ]
        }
      ]
    },
    {
      "cell_type": "markdown",
      "source": [
        "Conclusiones:\n",
        "\n",
        "* Cantidad se cambiara por tipo Int\n",
        "* FechaVenta se cambiara por tipo Date"
      ],
      "metadata": {
        "id": "Kg_f76CjLN6e"
      }
    },
    {
      "cell_type": "code",
      "source": [
        "df_data.info()"
      ],
      "metadata": {
        "colab": {
          "base_uri": "https://localhost:8080/"
        },
        "id": "sVCD3pSLbEzH",
        "outputId": "f953dba3-16d9-46dd-d820-78e90749b26e"
      },
      "execution_count": null,
      "outputs": [
        {
          "output_type": "stream",
          "name": "stdout",
          "text": [
            "<class 'pandas.core.frame.DataFrame'>\n",
            "Index: 20838 entries, 0 to 20882\n",
            "Data columns (total 18 columns):\n",
            " #   Column         Non-Null Count  Dtype         \n",
            "---  ------         --------------  -----         \n",
            " 0   IdProd         20838 non-null  object        \n",
            " 1   Descripcion    20838 non-null  object        \n",
            " 2   ID             20838 non-null  int64         \n",
            " 3   Sucursal       20838 non-null  object        \n",
            " 4   Vendedor       20838 non-null  object        \n",
            " 5   Cliente        20838 non-null  object        \n",
            " 6   FechaVenta     20838 non-null  datetime64[ns]\n",
            " 7   FechaCierre    20736 non-null  object        \n",
            " 8   Cantidad       20838 non-null  int64         \n",
            " 9   PrecioCompra   20838 non-null  float64       \n",
            " 10  PrecioVenta    20838 non-null  float64       \n",
            " 11  PrecioFinal    20838 non-null  float64       \n",
            " 12  ComisionUnit   20838 non-null  float64       \n",
            " 13  ComisionTotal  20838 non-null  float64       \n",
            " 14  Total          20838 non-null  float64       \n",
            " 15  Utilidad       20838 non-null  float64       \n",
            " 16  Marca          20838 non-null  object        \n",
            " 17  Proveedor      20838 non-null  object        \n",
            "dtypes: datetime64[ns](1), float64(7), int64(2), object(8)\n",
            "memory usage: 3.0+ MB\n"
          ]
        }
      ]
    },
    {
      "cell_type": "markdown",
      "source": [
        "# ANALISIS DESCRIPTIVO"
      ],
      "metadata": {
        "id": "T4IhlDBILFIg"
      }
    },
    {
      "cell_type": "markdown",
      "source": [
        "#### EDA VARIABLES CATEGÓRICAS"
      ],
      "metadata": {
        "id": "3kbJJ0PTAoVz"
      }
    },
    {
      "cell_type": "code",
      "source": [
        "def graficos_eda_categoricos(cat):\n",
        "\n",
        "    #Calculamos el número de filas que necesitamos\n",
        "    from math import ceil\n",
        "    filas = ceil(cat.shape[1] / 2)\n",
        "\n",
        "    #Definimos el gráfico\n",
        "    f, ax = plt.subplots(nrows = filas, ncols = 2, figsize = (16, filas * 6))\n",
        "\n",
        "    #Aplanamos para iterar por el gráfico como si fuera de 1 dimensión en lugar de 2\n",
        "    ax = ax.flat\n",
        "\n",
        "    #Creamos el bucle que va añadiendo gráficos\n",
        "    for cada, variable in enumerate(cat):\n",
        "        cat[variable].value_counts().plot.barh(ax = ax[cada])\n",
        "        ax[cada].set_title(variable, fontsize = 12, fontweight = \"bold\")\n",
        "        ax[cada].tick_params(labelsize = 12)"
      ],
      "metadata": {
        "id": "QGhuSREs0vJu"
      },
      "execution_count": null,
      "outputs": []
    },
    {
      "cell_type": "code",
      "source": [
        "# Crear gráfico de conteo\n",
        "sns.countplot(x='Sucursal', data=df_data)\n",
        "plt.title('Sucursal')\n",
        "plt.xlabel('Sucursal')\n",
        "plt.ylabel('Conteo')\n",
        "plt.show()"
      ],
      "metadata": {
        "colab": {
          "base_uri": "https://localhost:8080/",
          "height": 472
        },
        "id": "4c_isVnByOLy",
        "outputId": "f69aa954-5b1b-4f7e-d628-d714766e6913"
      },
      "execution_count": null,
      "outputs": [
        {
          "output_type": "display_data",
          "data": {
            "text/plain": [
              "<Figure size 640x480 with 1 Axes>"
            ],
            "image/png": "[encoded data removed]"
          },
          "metadata": {}
        }
      ]
    },
    {
      "cell_type": "code",
      "source": [
        "#graficos_eda_categoricos(df_data.select_dtypes('O'))"
      ],
      "metadata": {
        "id": "ClVuJy0lJ8sW"
      },
      "execution_count": null,
      "outputs": []
    },
    {
      "cell_type": "code",
      "source": [
        "# Subniveles de cada variable categórica\n",
        "cols_cat = ['Descripcion','Sucursal', 'Vendedor', 'Cliente', 'Marca',\n",
        "       'Proveedor']\n",
        "\n",
        "for col in cols_cat:\n",
        "  print(f'Columna {col}: {df_data[col].nunique()} subniveles')"
      ],
      "metadata": {
        "colab": {
          "base_uri": "https://localhost:8080/"
        },
        "id": "szD2HKBj6SSl",
        "outputId": "d1241f61-d18e-4d76-c61f-a33fabed7d62"
      },
      "execution_count": null,
      "outputs": [
        {
          "output_type": "stream",
          "name": "stdout",
          "text": [
            "Columna Descripcion: 3390 subniveles\n",
            "Columna Sucursal: 4 subniveles\n",
            "Columna Vendedor: 115 subniveles\n",
            "Columna Cliente: 8284 subniveles\n",
            "Columna Marca: 120 subniveles\n",
            "Columna Proveedor: 44 subniveles\n"
          ]
        }
      ]
    },
    {
      "cell_type": "code",
      "source": [
        "#Como se comportan de variables categoricas\n",
        "df_data.describe(include=['O'])"
      ],
      "metadata": {
        "colab": {
          "base_uri": "https://localhost:8080/",
          "height": 175
        },
        "id": "tj1IECJoy2l6",
        "outputId": "e993a566-ab49-4999-d35f-d1fd0605cb59"
      },
      "execution_count": null,
      "outputs": [
        {
          "output_type": "execute_result",
          "data": {
            "text/plain": [
              "            IdProd                                        Descripcion  \\\n",
              "count        20838                                              20838   \n",
              "unique        3298                                               3390   \n",
              "top     00012196.4  MASCARA DE SOLDA AUTO.C/ CONTROLADOR LYNUS MSL...   \n",
              "freq           411                                                401   \n",
              "\n",
              "          Sucursal           Vendedor  Cliente FechaCierre   Marca  Proveedor  \n",
              "count        20838              20838    20838       20736   20838      20838  \n",
              "unique           4                115     8284         453     120         44  \n",
              "top     COCHABAMBA  Tienda Cochabamba  CLIENTE  2022-09-21  TRUPER  FORZA SRL  \n",
              "freq         10842               9644      790        1499    4158       5407  "
            ],
            "text/html": [
              "\n",
              "  <div id=\"df-3ada6adb-39ee-4ead-a3d1-cdf43a9df1c3\" class=\"colab-df-container\">\n",
              "    <div>\n",
              "<style scoped>\n",
              "    .dataframe tbody tr th:only-of-type {\n",
              "        vertical-align: middle;\n",
              "    }\n",
              "\n",
              "    .dataframe tbody tr th {\n",
              "        vertical-align: top;\n",
              "    }\n",
              "\n",
              "    .dataframe thead th {\n",
              "        text-align: right;\n",
              "    }\n",
              "</style>\n",
              "<table border=\"1\" class=\"dataframe\">\n",
              "  <thead>\n",
              "    <tr style=\"text-align: right;\">\n",
              "      <th></th>\n",
              "      <th>IdProd</th>\n",
              "      <th>Descripcion</th>\n",
              "      <th>Sucursal</th>\n",
              "      <th>Vendedor</th>\n",
              "      <th>Cliente</th>\n",
              "      <th>FechaCierre</th>\n",
              "      <th>Marca</th>\n",
              "      <th>Proveedor</th>\n",
              "    </tr>\n",
              "  </thead>\n",
              "  <tbody>\n",
              "    <tr>\n",
              "      <th>count</th>\n",
              "      <td>20838</td>\n",
              "      <td>20838</td>\n",
              "      <td>20838</td>\n",
              "      <td>20838</td>\n",
              "      <td>20838</td>\n",
              "      <td>20736</td>\n",
              "      <td>20838</td>\n",
              "      <td>20838</td>\n",
              "    </tr>\n",
              "    <tr>\n",
              "      <th>unique</th>\n",
              "      <td>3298</td>\n",
              "      <td>3390</td>\n",
              "      <td>4</td>\n",
              "      <td>115</td>\n",
              "      <td>8284</td>\n",
              "      <td>453</td>\n",
              "      <td>120</td>\n",
              "      <td>44</td>\n",
              "    </tr>\n",
              "    <tr>\n",
              "      <th>top</th>\n",
              "      <td>00012196.4</td>\n",
              "      <td>MASCARA DE SOLDA AUTO.C/ CONTROLADOR LYNUS MSL...</td>\n",
              "      <td>COCHABAMBA</td>\n",
              "      <td>Tienda Cochabamba</td>\n",
              "      <td>CLIENTE</td>\n",
              "      <td>2022-09-21</td>\n",
              "      <td>TRUPER</td>\n",
              "      <td>FORZA SRL</td>\n",
              "    </tr>\n",
              "    <tr>\n",
              "      <th>freq</th>\n",
              "      <td>411</td>\n",
              "      <td>401</td>\n",
              "      <td>10842</td>\n",
              "      <td>9644</td>\n",
              "      <td>790</td>\n",
              "      <td>1499</td>\n",
              "      <td>4158</td>\n",
              "      <td>5407</td>\n",
              "    </tr>\n",
              "  </tbody>\n",
              "</table>\n",
              "</div>\n",
              "    <div class=\"colab-df-buttons\">\n",
              "\n",
              "  <div class=\"colab-df-container\">\n",
              "    <button class=\"colab-df-convert\" onclick=\"convertToInteractive('df-3ada6adb-39ee-4ead-a3d1-cdf43a9df1c3')\"\n",
              "            title=\"Convert this dataframe to an interactive table.\"\n",
              "            style=\"display:none;\">\n",
              "\n",
              "  <svg xmlns=\"http://www.w3.org/2000/svg\" height=\"24px\" viewBox=\"0 -960 960 960\">\n",
              "    <path d=\"M120-120v-720h720v720H120Zm60-500h600v-160H180v160Zm220 220h160v-160H400v160Zm0 220h160v-160H400v160ZM180-400h160v-160H180v160Zm440 0h160v-160H620v160ZM180-180h160v-160H180v160Zm440 0h160v-160H620v160Z\"/>\n",
              "  </svg>\n",
              "    </button>\n",
              "\n",
              "  <style>\n",
              "    .colab-df-container {\n",
              "      display:flex;\n",
              "      gap: 12px;\n",
              "    }\n",
              "\n",
              "    .colab-df-convert {\n",
              "      background-color: #E8F0FE;\n",
              "      border: none;\n",
              "      border-radius: 50%;\n",
              "      cursor: pointer;\n",
              "      display: none;\n",
              "      fill: #1967D2;\n",
              "      height: 32px;\n",
              "      padding: 0 0 0 0;\n",
              "      width: 32px;\n",
              "    }\n",
              "\n",
              "    .colab-df-convert:hover {\n",
              "      background-color: #E2EBFA;\n",
              "      box-shadow: 0px 1px 2px rgba(60, 64, 67, 0.3), 0px 1px 3px 1px rgba(60, 64, 67, 0.15);\n",
              "      fill: #174EA6;\n",
              "    }\n",
              "\n",
              "    .colab-df-buttons div {\n",
              "      margin-bottom: 4px;\n",
              "    }\n",
              "\n",
              "    [theme=dark] .colab-df-convert {\n",
              "      background-color: #3B4455;\n",
              "      fill: #D2E3FC;\n",
              "    }\n",
              "\n",
              "    [theme=dark] .colab-df-convert:hover {\n",
              "      background-color: #434B5C;\n",
              "      box-shadow: 0px 1px 3px 1px rgba(0, 0, 0, 0.15);\n",
              "      filter: drop-shadow(0px 1px 2px rgba(0, 0, 0, 0.3));\n",
              "      fill: #FFFFFF;\n",
              "    }\n",
              "  </style>\n",
              "\n",
              "    <script>\n",
              "      const buttonEl =\n",
              "        document.querySelector('#df-3ada6adb-39ee-4ead-a3d1-cdf43a9df1c3 button.colab-df-convert');\n",
              "      buttonEl.style.display =\n",
              "        google.colab.kernel.accessAllowed ? 'block' : 'none';\n",
              "\n",
              "      async function convertToInteractive(key) {\n",
              "        const element = document.querySelector('#df-3ada6adb-39ee-4ead-a3d1-cdf43a9df1c3');\n",
              "        const dataTable =\n",
              "          await google.colab.kernel.invokeFunction('convertToInteractive',\n",
              "                                                    [key], {});\n",
              "        if (!dataTable) return;\n",
              "\n",
              "        const docLinkHtml = 'Like what you see? Visit the ' +\n",
              "          '<a target=\"_blank\" href=https://colab.research.google.com/notebooks/data_table.ipynb>data table notebook</a>'\n",
              "          + ' to learn more about interactive tables.';\n",
              "        element.innerHTML = '';\n",
              "        dataTable['output_type'] = 'display_data';\n",
              "        await google.colab.output.renderOutput(dataTable, element);\n",
              "        const docLink = document.createElement('div');\n",
              "        docLink.innerHTML = docLinkHtml;\n",
              "        element.appendChild(docLink);\n",
              "      }\n",
              "    </script>\n",
              "  </div>\n",
              "\n",
              "\n",
              "<div id=\"df-73c8ac11-2549-4d21-8fdb-aa5b2056b642\">\n",
              "  <button class=\"colab-df-quickchart\" onclick=\"quickchart('df-73c8ac11-2549-4d21-8fdb-aa5b2056b642')\"\n",
              "            title=\"Suggest charts\"\n",
              "            style=\"display:none;\">\n",
              "\n",
              "<svg xmlns=\"http://www.w3.org/2000/svg\" height=\"24px\"viewBox=\"0 0 24 24\"\n",
              "     width=\"24px\">\n",
              "    <g>\n",
              "        <path d=\"M19 3H5c-1.1 0-2 .9-2 2v14c0 1.1.9 2 2 2h14c1.1 0 2-.9 2-2V5c0-1.1-.9-2-2-2zM9 17H7v-7h2v7zm4 0h-2V7h2v10zm4 0h-2v-4h2v4z\"/>\n",
              "    </g>\n",
              "</svg>\n",
              "  </button>\n",
              "\n",
              "<style>\n",
              "  .colab-df-quickchart {\n",
              "      --bg-color: #E8F0FE;\n",
              "      --fill-color: #1967D2;\n",
              "      --hover-bg-color: #E2EBFA;\n",
              "      --hover-fill-color: #174EA6;\n",
              "      --disabled-fill-color: #AAA;\n",
              "      --disabled-bg-color: #DDD;\n",
              "  }\n",
              "\n",
              "  [theme=dark] .colab-df-quickchart {\n",
              "      --bg-color: #3B4455;\n",
              "      --fill-color: #D2E3FC;\n",
              "      --hover-bg-color: #434B5C;\n",
              "      --hover-fill-color: #FFFFFF;\n",
              "      --disabled-bg-color: #3B4455;\n",
              "      --disabled-fill-color: #666;\n",
              "  }\n",
              "\n",
              "  .colab-df-quickchart {\n",
              "    background-color: var(--bg-color);\n",
              "    border: none;\n",
              "    border-radius: 50%;\n",
              "    cursor: pointer;\n",
              "    display: none;\n",
              "    fill: var(--fill-color);\n",
              "    height: 32px;\n",
              "    padding: 0;\n",
              "    width: 32px;\n",
              "  }\n",
              "\n",
              "  .colab-df-quickchart:hover {\n",
              "    background-color: var(--hover-bg-color);\n",
              "    box-shadow: 0 1px 2px rgba(60, 64, 67, 0.3), 0 1px 3px 1px rgba(60, 64, 67, 0.15);\n",
              "    fill: var(--button-hover-fill-color);\n",
              "  }\n",
              "\n",
              "  .colab-df-quickchart-complete:disabled,\n",
              "  .colab-df-quickchart-complete:disabled:hover {\n",
              "    background-color: var(--disabled-bg-color);\n",
              "    fill: var(--disabled-fill-color);\n",
              "    box-shadow: none;\n",
              "  }\n",
              "\n",
              "  .colab-df-spinner {\n",
              "    border: 2px solid var(--fill-color);\n",
              "    border-color: transparent;\n",
              "    border-bottom-color: var(--fill-color);\n",
              "    animation:\n",
              "      spin 1s steps(1) infinite;\n",
              "  }\n",
              "\n",
              "  @keyframes spin {\n",
              "    0% {\n",
              "      border-color: transparent;\n",
              "      border-bottom-color: var(--fill-color);\n",
              "      border-left-color: var(--fill-color);\n",
              "    }\n",
              "    20% {\n",
              "      border-color: transparent;\n",
              "      border-left-color: var(--fill-color);\n",
              "      border-top-color: var(--fill-color);\n",
              "    }\n",
              "    30% {\n",
              "      border-color: transparent;\n",
              "      border-left-color: var(--fill-color);\n",
              "      border-top-color: var(--fill-color);\n",
              "      border-right-color: var(--fill-color);\n",
              "    }\n",
              "    40% {\n",
              "      border-color: transparent;\n",
              "      border-right-color: var(--fill-color);\n",
              "      border-top-color: var(--fill-color);\n",
              "    }\n",
              "    60% {\n",
              "      border-color: transparent;\n",
              "      border-right-color: var(--fill-color);\n",
              "    }\n",
              "    80% {\n",
              "      border-color: transparent;\n",
              "      border-right-color: var(--fill-color);\n",
              "      border-bottom-color: var(--fill-color);\n",
              "    }\n",
              "    90% {\n",
              "      border-color: transparent;\n",
              "      border-bottom-color: var(--fill-color);\n",
              "    }\n",
              "  }\n",
              "</style>\n",
              "\n",
              "  <script>\n",
              "    async function quickchart(key) {\n",
              "      const quickchartButtonEl =\n",
              "        document.querySelector('#' + key + ' button');\n",
              "      quickchartButtonEl.disabled = true;  // To prevent multiple clicks.\n",
              "      quickchartButtonEl.classList.add('colab-df-spinner');\n",
              "      try {\n",
              "        const charts = await google.colab.kernel.invokeFunction(\n",
              "            'suggestCharts', [key], {});\n",
              "      } catch (error) {\n",
              "        console.error('Error during call to suggestCharts:', error);\n",
              "      }\n",
              "      quickchartButtonEl.classList.remove('colab-df-spinner');\n",
              "      quickchartButtonEl.classList.add('colab-df-quickchart-complete');\n",
              "    }\n",
              "    (() => {\n",
              "      let quickchartButtonEl =\n",
              "        document.querySelector('#df-73c8ac11-2549-4d21-8fdb-aa5b2056b642 button');\n",
              "      quickchartButtonEl.style.display =\n",
              "        google.colab.kernel.accessAllowed ? 'block' : 'none';\n",
              "    })();\n",
              "  </script>\n",
              "</div>\n",
              "\n",
              "    </div>\n",
              "  </div>\n"
            ],
            "application/vnd.google.colaboratory.intrinsic+json": {
              "type": "dataframe",
              "summary": "{\n  \"name\": \"df_data\",\n  \"rows\": 4,\n  \"fields\": [\n    {\n      \"column\": \"IdProd\",\n      \"properties\": {\n        \"dtype\": \"string\",\n        \"num_unique_values\": 4,\n        \"samples\": [\n          3298,\n          \"411\",\n          \"20838\"\n        ],\n        \"semantic_type\": \"\",\n        \"description\": \"\"\n      }\n    },\n    {\n      \"column\": \"Descripcion\",\n      \"properties\": {\n        \"dtype\": \"string\",\n        \"num_unique_values\": 4,\n        \"samples\": [\n          3390,\n          \"401\",\n          \"20838\"\n        ],\n        \"semantic_type\": \"\",\n        \"description\": \"\"\n      }\n    },\n    {\n      \"column\": \"Sucursal\",\n      \"properties\": {\n        \"dtype\": \"string\",\n        \"num_unique_values\": 4,\n        \"samples\": [\n          4,\n          \"10842\",\n          \"20838\"\n        ],\n        \"semantic_type\": \"\",\n        \"description\": \"\"\n      }\n    },\n    {\n      \"column\": \"Vendedor\",\n      \"properties\": {\n        \"dtype\": \"string\",\n        \"num_unique_values\": 4,\n        \"samples\": [\n          115,\n          \"9644\",\n          \"20838\"\n        ],\n        \"semantic_type\": \"\",\n        \"description\": \"\"\n      }\n    },\n    {\n      \"column\": \"Cliente\",\n      \"properties\": {\n        \"dtype\": \"string\",\n        \"num_unique_values\": 4,\n        \"samples\": [\n          8284,\n          \"790\",\n          \"20838\"\n        ],\n        \"semantic_type\": \"\",\n        \"description\": \"\"\n      }\n    },\n    {\n      \"column\": \"FechaCierre\",\n      \"properties\": {\n        \"dtype\": \"date\",\n        \"min\": \"1970-01-01 00:00:00.000000453\",\n        \"max\": \"2022-09-21 00:00:00\",\n        \"num_unique_values\": 4,\n        \"samples\": [\n          453,\n          \"1499\",\n          \"20736\"\n        ],\n        \"semantic_type\": \"\",\n        \"description\": \"\"\n      }\n    },\n    {\n      \"column\": \"Marca\",\n      \"properties\": {\n        \"dtype\": \"string\",\n        \"num_unique_values\": 4,\n        \"samples\": [\n          120,\n          \"4158\",\n          \"20838\"\n        ],\n        \"semantic_type\": \"\",\n        \"description\": \"\"\n      }\n    },\n    {\n      \"column\": \"Proveedor\",\n      \"properties\": {\n        \"dtype\": \"string\",\n        \"num_unique_values\": 4,\n        \"samples\": [\n          44,\n          \"5407\",\n          \"20838\"\n        ],\n        \"semantic_type\": \"\",\n        \"description\": \"\"\n      }\n    }\n  ]\n}"
            }
          },
          "metadata": {},
          "execution_count": 20
        }
      ]
    },
    {
      "cell_type": "markdown",
      "source": [
        "#### EDA VARIABLES NUMÉRICAS"
      ],
      "metadata": {
        "id": "nEskNMxCIdPf"
      }
    },
    {
      "cell_type": "code",
      "source": [
        "def estadisticos_cont(num):\n",
        "    #Calculamos describe\n",
        "    estadisticos = num.describe().T\n",
        "    #Añadimos la mediana\n",
        "    estadisticos['median'] = num.median()\n",
        "    #Reordenamos para que la mediana esté al lado de la media\n",
        "    estadisticos = estadisticos.iloc[:,[0,1,8,2,3,4,5,6,7]]\n",
        "    #Lo devolvemos\n",
        "    return(estadisticos)"
      ],
      "metadata": {
        "id": "IPhUIx26LwZ6"
      },
      "execution_count": null,
      "outputs": []
    },
    {
      "cell_type": "code",
      "source": [
        "estadisticos_cont(df_data.select_dtypes('number'))"
      ],
      "metadata": {
        "colab": {
          "base_uri": "https://localhost:8080/",
          "height": 331
        },
        "id": "qgaJY4NpLxgs",
        "outputId": "5af1a38a-82cd-4515-ee4f-2597c4238592"
      },
      "execution_count": null,
      "outputs": [
        {
          "output_type": "execute_result",
          "data": {
            "text/plain": [
              "                 count         mean   median          std       min      25%  \\\n",
              "ID             20838.0  7898.483636  7893.00  5204.512661      1.00  2708.25   \n",
              "Cantidad       20838.0     1.353297     1.00     2.067014      1.00     1.00   \n",
              "PrecioCompra   20838.0   380.458355    99.08   691.990847      1.00    23.25   \n",
              "PrecioVenta    20838.0   482.755769   135.00   861.172376      1.04    32.00   \n",
              "PrecioFinal    20838.0   484.188019   130.00   862.646920      2.00    32.00   \n",
              "ComisionUnit   20838.0    16.900860     0.00    59.551017   -750.00     0.00   \n",
              "ComisionTotal  20838.0    18.170190     0.00    70.048407   -750.00     0.00   \n",
              "Total          20838.0   531.496194   166.50   996.225934      2.00    36.00   \n",
              "Utilidad       20838.0    93.900944    37.25   277.979480 -15067.20     9.50   \n",
              "\n",
              "                   50%      75%      max  \n",
              "ID             7893.00  11799.0  24028.0  \n",
              "Cantidad          1.00      1.0    100.0  \n",
              "PrecioCompra     99.08    436.6  12043.0  \n",
              "PrecioVenta     135.00    560.0  14500.0  \n",
              "PrecioFinal     130.00    560.0  14500.0  \n",
              "ComisionUnit      0.00     21.0   4681.0  \n",
              "ComisionTotal     0.00     25.0   4681.0  \n",
              "Total           166.50    630.0  38500.0  \n",
              "Utilidad         37.25    102.0   7294.0  "
            ],
            "text/html": [
              "\n",
              "  <div id=\"df-d87636c3-6031-4a6f-9623-ccba7e53c3af\" class=\"colab-df-container\">\n",
              "    <div>\n",
              "<style scoped>\n",
              "    .dataframe tbody tr th:only-of-type {\n",
              "        vertical-align: middle;\n",
              "    }\n",
              "\n",
              "    .dataframe tbody tr th {\n",
              "        vertical-align: top;\n",
              "    }\n",
              "\n",
              "    .dataframe thead th {\n",
              "        text-align: right;\n",
              "    }\n",
              "</style>\n",
              "<table border=\"1\" class=\"dataframe\">\n",
              "  <thead>\n",
              "    <tr style=\"text-align: right;\">\n",
              "      <th></th>\n",
              "      <th>count</th>\n",
              "      <th>mean</th>\n",
              "      <th>median</th>\n",
              "      <th>std</th>\n",
              "      <th>min</th>\n",
              "      <th>25%</th>\n",
              "      <th>50%</th>\n",
              "      <th>75%</th>\n",
              "      <th>max</th>\n",
              "    </tr>\n",
              "  </thead>\n",
              "  <tbody>\n",
              "    <tr>\n",
              "      <th>ID</th>\n",
              "      <td>20838.0</td>\n",
              "      <td>7898.483636</td>\n",
              "      <td>7893.00</td>\n",
              "      <td>5204.512661</td>\n",
              "      <td>1.00</td>\n",
              "      <td>2708.25</td>\n",
              "      <td>7893.00</td>\n",
              "      <td>11799.0</td>\n",
              "      <td>24028.0</td>\n",
              "    </tr>\n",
              "    <tr>\n",
              "      <th>Cantidad</th>\n",
              "      <td>20838.0</td>\n",
              "      <td>1.353297</td>\n",
              "      <td>1.00</td>\n",
              "      <td>2.067014</td>\n",
              "      <td>1.00</td>\n",
              "      <td>1.00</td>\n",
              "      <td>1.00</td>\n",
              "      <td>1.0</td>\n",
              "      <td>100.0</td>\n",
              "    </tr>\n",
              "    <tr>\n",
              "      <th>PrecioCompra</th>\n",
              "      <td>20838.0</td>\n",
              "      <td>380.458355</td>\n",
              "      <td>99.08</td>\n",
              "      <td>691.990847</td>\n",
              "      <td>1.00</td>\n",
              "      <td>23.25</td>\n",
              "      <td>99.08</td>\n",
              "      <td>436.6</td>\n",
              "      <td>12043.0</td>\n",
              "    </tr>\n",
              "    <tr>\n",
              "      <th>PrecioVenta</th>\n",
              "      <td>20838.0</td>\n",
              "      <td>482.755769</td>\n",
              "      <td>135.00</td>\n",
              "      <td>861.172376</td>\n",
              "      <td>1.04</td>\n",
              "      <td>32.00</td>\n",
              "      <td>135.00</td>\n",
              "      <td>560.0</td>\n",
              "      <td>14500.0</td>\n",
              "    </tr>\n",
              "    <tr>\n",
              "      <th>PrecioFinal</th>\n",
              "      <td>20838.0</td>\n",
              "      <td>484.188019</td>\n",
              "      <td>130.00</td>\n",
              "      <td>862.646920</td>\n",
              "      <td>2.00</td>\n",
              "      <td>32.00</td>\n",
              "      <td>130.00</td>\n",
              "      <td>560.0</td>\n",
              "      <td>14500.0</td>\n",
              "    </tr>\n",
              "    <tr>\n",
              "      <th>ComisionUnit</th>\n",
              "      <td>20838.0</td>\n",
              "      <td>16.900860</td>\n",
              "      <td>0.00</td>\n",
              "      <td>59.551017</td>\n",
              "      <td>-750.00</td>\n",
              "      <td>0.00</td>\n",
              "      <td>0.00</td>\n",
              "      <td>21.0</td>\n",
              "      <td>4681.0</td>\n",
              "    </tr>\n",
              "    <tr>\n",
              "      <th>ComisionTotal</th>\n",
              "      <td>20838.0</td>\n",
              "      <td>18.170190</td>\n",
              "      <td>0.00</td>\n",
              "      <td>70.048407</td>\n",
              "      <td>-750.00</td>\n",
              "      <td>0.00</td>\n",
              "      <td>0.00</td>\n",
              "      <td>25.0</td>\n",
              "      <td>4681.0</td>\n",
              "    </tr>\n",
              "    <tr>\n",
              "      <th>Total</th>\n",
              "      <td>20838.0</td>\n",
              "      <td>531.496194</td>\n",
              "      <td>166.50</td>\n",
              "      <td>996.225934</td>\n",
              "      <td>2.00</td>\n",
              "      <td>36.00</td>\n",
              "      <td>166.50</td>\n",
              "      <td>630.0</td>\n",
              "      <td>38500.0</td>\n",
              "    </tr>\n",
              "    <tr>\n",
              "      <th>Utilidad</th>\n",
              "      <td>20838.0</td>\n",
              "      <td>93.900944</td>\n",
              "      <td>37.25</td>\n",
              "      <td>277.979480</td>\n",
              "      <td>-15067.20</td>\n",
              "      <td>9.50</td>\n",
              "      <td>37.25</td>\n",
              "      <td>102.0</td>\n",
              "      <td>7294.0</td>\n",
              "    </tr>\n",
              "  </tbody>\n",
              "</table>\n",
              "</div>\n",
              "    <div class=\"colab-df-buttons\">\n",
              "\n",
              "  <div class=\"colab-df-container\">\n",
              "    <button class=\"colab-df-convert\" onclick=\"convertToInteractive('df-d87636c3-6031-4a6f-9623-ccba7e53c3af')\"\n",
              "            title=\"Convert this dataframe to an interactive table.\"\n",
              "            style=\"display:none;\">\n",
              "\n",
              "  <svg xmlns=\"http://www.w3.org/2000/svg\" height=\"24px\" viewBox=\"0 -960 960 960\">\n",
              "    <path d=\"M120-120v-720h720v720H120Zm60-500h600v-160H180v160Zm220 220h160v-160H400v160Zm0 220h160v-160H400v160ZM180-400h160v-160H180v160Zm440 0h160v-160H620v160ZM180-180h160v-160H180v160Zm440 0h160v-160H620v160Z\"/>\n",
              "  </svg>\n",
              "    </button>\n",
              "\n",
              "  <style>\n",
              "    .colab-df-container {\n",
              "      display:flex;\n",
              "      gap: 12px;\n",
              "    }\n",
              "\n",
              "    .colab-df-convert {\n",
              "      background-color: #E8F0FE;\n",
              "      border: none;\n",
              "      border-radius: 50%;\n",
              "      cursor: pointer;\n",
              "      display: none;\n",
              "      fill: #1967D2;\n",
              "      height: 32px;\n",
              "      padding: 0 0 0 0;\n",
              "      width: 32px;\n",
              "    }\n",
              "\n",
              "    .colab-df-convert:hover {\n",
              "      background-color: #E2EBFA;\n",
              "      box-shadow: 0px 1px 2px rgba(60, 64, 67, 0.3), 0px 1px 3px 1px rgba(60, 64, 67, 0.15);\n",
              "      fill: #174EA6;\n",
              "    }\n",
              "\n",
              "    .colab-df-buttons div {\n",
              "      margin-bottom: 4px;\n",
              "    }\n",
              "\n",
              "    [theme=dark] .colab-df-convert {\n",
              "      background-color: #3B4455;\n",
              "      fill: #D2E3FC;\n",
              "    }\n",
              "\n",
              "    [theme=dark] .colab-df-convert:hover {\n",
              "      background-color: #434B5C;\n",
              "      box-shadow: 0px 1px 3px 1px rgba(0, 0, 0, 0.15);\n",
              "      filter: drop-shadow(0px 1px 2px rgba(0, 0, 0, 0.3));\n",
              "      fill: #FFFFFF;\n",
              "    }\n",
              "  </style>\n",
              "\n",
              "    <script>\n",
              "      const buttonEl =\n",
              "        document.querySelector('#df-d87636c3-6031-4a6f-9623-ccba7e53c3af button.colab-df-convert');\n",
              "      buttonEl.style.display =\n",
              "        google.colab.kernel.accessAllowed ? 'block' : 'none';\n",
              "\n",
              "      async function convertToInteractive(key) {\n",
              "        const element = document.querySelector('#df-d87636c3-6031-4a6f-9623-ccba7e53c3af');\n",
              "        const dataTable =\n",
              "          await google.colab.kernel.invokeFunction('convertToInteractive',\n",
              "                                                    [key], {});\n",
              "        if (!dataTable) return;\n",
              "\n",
              "        const docLinkHtml = 'Like what you see? Visit the ' +\n",
              "          '<a target=\"_blank\" href=https://colab.research.google.com/notebooks/data_table.ipynb>data table notebook</a>'\n",
              "          + ' to learn more about interactive tables.';\n",
              "        element.innerHTML = '';\n",
              "        dataTable['output_type'] = 'display_data';\n",
              "        await google.colab.output.renderOutput(dataTable, element);\n",
              "        const docLink = document.createElement('div');\n",
              "        docLink.innerHTML = docLinkHtml;\n",
              "        element.appendChild(docLink);\n",
              "      }\n",
              "    </script>\n",
              "  </div>\n",
              "\n",
              "\n",
              "<div id=\"df-b84fd524-3959-4f15-8a15-fa7bfcc34606\">\n",
              "  <button class=\"colab-df-quickchart\" onclick=\"quickchart('df-b84fd524-3959-4f15-8a15-fa7bfcc34606')\"\n",
              "            title=\"Suggest charts\"\n",
              "            style=\"display:none;\">\n",
              "\n",
              "<svg xmlns=\"http://www.w3.org/2000/svg\" height=\"24px\"viewBox=\"0 0 24 24\"\n",
              "     width=\"24px\">\n",
              "    <g>\n",
              "        <path d=\"M19 3H5c-1.1 0-2 .9-2 2v14c0 1.1.9 2 2 2h14c1.1 0 2-.9 2-2V5c0-1.1-.9-2-2-2zM9 17H7v-7h2v7zm4 0h-2V7h2v10zm4 0h-2v-4h2v4z\"/>\n",
              "    </g>\n",
              "</svg>\n",
              "  </button>\n",
              "\n",
              "<style>\n",
              "  .colab-df-quickchart {\n",
              "      --bg-color: #E8F0FE;\n",
              "      --fill-color: #1967D2;\n",
              "      --hover-bg-color: #E2EBFA;\n",
              "      --hover-fill-color: #174EA6;\n",
              "      --disabled-fill-color: #AAA;\n",
              "      --disabled-bg-color: #DDD;\n",
              "  }\n",
              "\n",
              "  [theme=dark] .colab-df-quickchart {\n",
              "      --bg-color: #3B4455;\n",
              "      --fill-color: #D2E3FC;\n",
              "      --hover-bg-color: #434B5C;\n",
              "      --hover-fill-color: #FFFFFF;\n",
              "      --disabled-bg-color: #3B4455;\n",
              "      --disabled-fill-color: #666;\n",
              "  }\n",
              "\n",
              "  .colab-df-quickchart {\n",
              "    background-color: var(--bg-color);\n",
              "    border: none;\n",
              "    border-radius: 50%;\n",
              "    cursor: pointer;\n",
              "    display: none;\n",
              "    fill: var(--fill-color);\n",
              "    height: 32px;\n",
              "    padding: 0;\n",
              "    width: 32px;\n",
              "  }\n",
              "\n",
              "  .colab-df-quickchart:hover {\n",
              "    background-color: var(--hover-bg-color);\n",
              "    box-shadow: 0 1px 2px rgba(60, 64, 67, 0.3), 0 1px 3px 1px rgba(60, 64, 67, 0.15);\n",
              "    fill: var(--button-hover-fill-color);\n",
              "  }\n",
              "\n",
              "  .colab-df-quickchart-complete:disabled,\n",
              "  .colab-df-quickchart-complete:disabled:hover {\n",
              "    background-color: var(--disabled-bg-color);\n",
              "    fill: var(--disabled-fill-color);\n",
              "    box-shadow: none;\n",
              "  }\n",
              "\n",
              "  .colab-df-spinner {\n",
              "    border: 2px solid var(--fill-color);\n",
              "    border-color: transparent;\n",
              "    border-bottom-color: var(--fill-color);\n",
              "    animation:\n",
              "      spin 1s steps(1) infinite;\n",
              "  }\n",
              "\n",
              "  @keyframes spin {\n",
              "    0% {\n",
              "      border-color: transparent;\n",
              "      border-bottom-color: var(--fill-color);\n",
              "      border-left-color: var(--fill-color);\n",
              "    }\n",
              "    20% {\n",
              "      border-color: transparent;\n",
              "      border-left-color: var(--fill-color);\n",
              "      border-top-color: var(--fill-color);\n",
              "    }\n",
              "    30% {\n",
              "      border-color: transparent;\n",
              "      border-left-color: var(--fill-color);\n",
              "      border-top-color: var(--fill-color);\n",
              "      border-right-color: var(--fill-color);\n",
              "    }\n",
              "    40% {\n",
              "      border-color: transparent;\n",
              "      border-right-color: var(--fill-color);\n",
              "      border-top-color: var(--fill-color);\n",
              "    }\n",
              "    60% {\n",
              "      border-color: transparent;\n",
              "      border-right-color: var(--fill-color);\n",
              "    }\n",
              "    80% {\n",
              "      border-color: transparent;\n",
              "      border-right-color: var(--fill-color);\n",
              "      border-bottom-color: var(--fill-color);\n",
              "    }\n",
              "    90% {\n",
              "      border-color: transparent;\n",
              "      border-bottom-color: var(--fill-color);\n",
              "    }\n",
              "  }\n",
              "</style>\n",
              "\n",
              "  <script>\n",
              "    async function quickchart(key) {\n",
              "      const quickchartButtonEl =\n",
              "        document.querySelector('#' + key + ' button');\n",
              "      quickchartButtonEl.disabled = true;  // To prevent multiple clicks.\n",
              "      quickchartButtonEl.classList.add('colab-df-spinner');\n",
              "      try {\n",
              "        const charts = await google.colab.kernel.invokeFunction(\n",
              "            'suggestCharts', [key], {});\n",
              "      } catch (error) {\n",
              "        console.error('Error during call to suggestCharts:', error);\n",
              "      }\n",
              "      quickchartButtonEl.classList.remove('colab-df-spinner');\n",
              "      quickchartButtonEl.classList.add('colab-df-quickchart-complete');\n",
              "    }\n",
              "    (() => {\n",
              "      let quickchartButtonEl =\n",
              "        document.querySelector('#df-b84fd524-3959-4f15-8a15-fa7bfcc34606 button');\n",
              "      quickchartButtonEl.style.display =\n",
              "        google.colab.kernel.accessAllowed ? 'block' : 'none';\n",
              "    })();\n",
              "  </script>\n",
              "</div>\n",
              "\n",
              "    </div>\n",
              "  </div>\n"
            ],
            "application/vnd.google.colaboratory.intrinsic+json": {
              "type": "dataframe",
              "summary": "{\n  \"name\": \"estadisticos_cont(df_data\",\n  \"rows\": 9,\n  \"fields\": [\n    {\n      \"column\": \"count\",\n      \"properties\": {\n        \"dtype\": \"number\",\n        \"std\": 0.0,\n        \"min\": 20838.0,\n        \"max\": 20838.0,\n        \"num_unique_values\": 1,\n        \"samples\": [\n          20838.0\n        ],\n        \"semantic_type\": \"\",\n        \"description\": \"\"\n      }\n    },\n    {\n      \"column\": \"mean\",\n      \"properties\": {\n        \"dtype\": \"number\",\n        \"std\": 2558.887553959161,\n        \"min\": 1.3532968615030234,\n        \"max\": 7898.483635665611,\n        \"num_unique_values\": 9,\n        \"samples\": [\n          531.4961939727359\n        ],\n        \"semantic_type\": \"\",\n        \"description\": \"\"\n      }\n    },\n    {\n      \"column\": \"median\",\n      \"properties\": {\n        \"dtype\": \"number\",\n        \"std\": 2608.104217789236,\n        \"min\": 0.0,\n        \"max\": 7893.0,\n        \"num_unique_values\": 8,\n        \"samples\": [\n          1.0\n        ],\n        \"semantic_type\": \"\",\n        \"description\": \"\"\n      }\n    },\n    {\n      \"column\": \"std\",\n      \"properties\": {\n        \"dtype\": \"number\",\n        \"std\": 1623.1647893241397,\n        \"min\": 2.067013642983715,\n        \"max\": 5204.5126608594,\n        \"num_unique_values\": 9,\n        \"samples\": [\n          996.2259339409084\n        ],\n        \"semantic_type\": \"\",\n        \"description\": \"\"\n      }\n    },\n    {\n      \"column\": \"min\",\n      \"properties\": {\n        \"dtype\": \"number\",\n        \"std\": 4970.893016390516,\n        \"min\": -15067.2,\n        \"max\": 2.0,\n        \"num_unique_values\": 5,\n        \"samples\": [\n          1.04\n        ],\n        \"semantic_type\": \"\",\n        \"description\": \"\"\n      }\n    },\n    {\n      \"column\": \"25%\",\n      \"properties\": {\n        \"dtype\": \"number\",\n        \"std\": 897.2982663637796,\n        \"min\": 0.0,\n        \"max\": 2708.25,\n        \"num_unique_values\": 7,\n        \"samples\": [\n          2708.25\n        ],\n        \"semantic_type\": \"\",\n        \"description\": \"\"\n      }\n    },\n    {\n      \"column\": \"50%\",\n      \"properties\": {\n        \"dtype\": \"number\",\n        \"std\": 2608.104217789236,\n        \"min\": 0.0,\n        \"max\": 7893.0,\n        \"num_unique_values\": 8,\n        \"samples\": [\n          1.0\n        ],\n        \"semantic_type\": \"\",\n        \"description\": \"\"\n      }\n    },\n    {\n      \"column\": \"75%\",\n      \"properties\": {\n        \"dtype\": \"number\",\n        \"std\": 3844.5423201092626,\n        \"min\": 1.0,\n        \"max\": 11799.0,\n        \"num_unique_values\": 8,\n        \"samples\": [\n          1.0\n        ],\n        \"semantic_type\": \"\",\n        \"description\": \"\"\n      }\n    },\n    {\n      \"column\": \"max\",\n      \"properties\": {\n        \"dtype\": \"number\",\n        \"std\": 11797.418732502461,\n        \"min\": 100.0,\n        \"max\": 38500.0,\n        \"num_unique_values\": 7,\n        \"samples\": [\n          24028.0\n        ],\n        \"semantic_type\": \"\",\n        \"description\": \"\"\n      }\n    }\n  ]\n}"
            }
          },
          "metadata": {},
          "execution_count": 22
        }
      ]
    },
    {
      "cell_type": "markdown",
      "source": [
        "# SELECCION DE VARIABLES"
      ],
      "metadata": {
        "id": "L6oi9gSrZhwO"
      }
    },
    {
      "cell_type": "code",
      "source": [
        "# Eliminar variables sin relevancia\n",
        "df_data = df_data.drop(columns=['ID','FechaCierre','IdProd'])"
      ],
      "metadata": {
        "id": "gi6Ilzxe4tFf"
      },
      "execution_count": null,
      "outputs": []
    },
    {
      "cell_type": "code",
      "source": [
        "\n",
        "# Seleccionar solo las columnas numéricas que deseas incluir en la matriz de correlación\n",
        "columnas_seleccionadas = df_data[['Cantidad', 'PrecioVenta', 'Utilidad', 'ComisionTotal']]\n",
        "\n",
        "# Calcular la matriz de correlación\n",
        "correlation_matrix = columnas_seleccionadas.corr()\n",
        "\n",
        "# Mostrar la matriz de correlación\n",
        "print(correlation_matrix)\n",
        "\n",
        "# Visualizar la matriz de correlación usando un mapa de calor\n",
        "plt.figure(figsize=(8, 6))\n",
        "sns.heatmap(correlation_matrix, annot=True, cmap='coolwarm', fmt='.2f')\n",
        "plt.title('Matriz de Correlación')\n",
        "plt.show()"
      ],
      "metadata": {
        "colab": {
          "base_uri": "https://localhost:8080/",
          "height": 637
        },
        "id": "8GNJt0YGWUQD",
        "outputId": "0444616d-5147-4b82-813c-9e273bc88207"
      },
      "execution_count": null,
      "outputs": [
        {
          "output_type": "stream",
          "name": "stdout",
          "text": [
            "               Cantidad  PrecioVenta  Utilidad  ComisionTotal\n",
            "Cantidad       1.000000    -0.068465 -0.067203       0.124505\n",
            "PrecioVenta   -0.068465     1.000000  0.553564       0.383288\n",
            "Utilidad      -0.067203     0.553564  1.000000      -0.057602\n",
            "ComisionTotal  0.124505     0.383288 -0.057602       1.000000\n"
          ]
        },
        {
          "output_type": "display_data",
          "data": {
            "text/plain": [
              "<Figure size 800x600 with 2 Axes>"
            ],
            "image/png": "[encoded data removed]"
          },
          "metadata": {}
        }
      ]
    },
    {
      "cell_type": "code",
      "source": [
        "# Agrupar por 'marca' y sumar las 'ventas'\n",
        "ventas_por_marca = df_data.groupby('Descripcion', as_index=False)['Total'].sum()\n",
        "\n",
        "# Ordenar por 'ventas' de forma descendente\n",
        "ventas_por_marca = ventas_por_marca.sort_values(by='Total', ascending=False)\n",
        "\n",
        "# Seleccionar las 20 marcas más vendidas\n",
        "df_top_marcas = ventas_por_marca.head(20)\n",
        "\n",
        "# Mostrar el resultado\n",
        "print(df_top_marcas)"
      ],
      "metadata": {
        "colab": {
          "base_uri": "https://localhost:8080/"
        },
        "id": "6dvng0zEMypO",
        "outputId": "ccbe8fa2-6a45-4d1d-ad69-ab040c962384"
      },
      "execution_count": null,
      "outputs": [
        {
          "output_type": "stream",
          "name": "stdout",
          "text": [
            "                                            Descripcion      Total\n",
            "2214  LPA-1000 MÁQUINA DE PINTURA SIN AIRE LYNUS 100...  342070.00\n",
            "2215  LPA-650 MAQUINA DE PINTURA AIRLESS LYNUS 650W ...  254222.00\n",
            "1240                EMPHILADERIA MANUAL 2000 KG EL-2000  238946.00\n",
            "3275                    TC-TS 2025/2 U, SIERRA DE BANCO  228410.00\n",
            "1241  EMPILHADEIRA MANUAL 1T X 1.6M - 550 X 900MM EM...  224687.00\n",
            "2681  POWER INVERSORA DE SOLDA LYNUS MIG BIVOLT 140A...  216172.00\n",
            "2679  POWER INVERSOR DE SOLDA LYNUS MIG 200A 220V LI...  188519.00\n",
            "2655      PLAINA DESENGROSSADEIRA LYNUS 8\" 220V PDL-800  185250.00\n",
            "1672    INVERSOR DE SOLDA ALUMINIO POWER 220V LIS-250AL  183870.00\n",
            "2513           PALETEIRA 3000 KG L.HASTE 685MM PM-685.3  174790.62\n",
            "2653    PLAINA DESENGROSSADEIRA LYNUS 13\" 220V PDL-1300  155390.00\n",
            "2512             PALETEIRA 2000 KG L.HASTE 685MM PM-685  155000.00\n",
            "2334  MASCARA DE SOLDA AUTO.C/ CONTROLADOR LYNUS MSL...  139594.00\n",
            "3001             SIERRA DE MESA STANLEY DISCO 10\" 1800W  128570.00\n",
            "2335         MASCARA DE SOLDA AUTOMATICA LYNUS MSL 3500  124975.00\n",
            "1628                       HIDROLAVADORA PRESION 1400 W  116270.00\n",
            "2219                   LS1040 SIERRA INGLETEADORA 1650W  113846.00\n",
            "1608                         HIDROLAVADO PRESION 1800 W   94180.00\n",
            "3352  TRANSF DE SOLDA LYNUS MIG S/GAS 220V 130 A LMI...   84050.00\n",
            "2218  LPLA - 750 LIJADORA DE PARED CON LUZ LED Y ASP...   80440.00\n"
          ]
        }
      ]
    },
    {
      "cell_type": "code",
      "source": [
        "df = pd.DataFrame(df_data)\n",
        "\n",
        "# Crear una tabla de contingencia\n",
        "contingency_table = df.pivot_table(values='Total', index='Sucursal', columns='Marca', fill_value=0)\n",
        "\n",
        "# Crear el mapa de calor\n",
        "plt.figure(figsize=(10, 6))\n",
        "sns.heatmap(contingency_table, annot=True, cmap='YlGnBu')\n",
        "plt.title('Mapa de Calor: Ventas por Sucursal y Marca')\n",
        "plt.xlabel('Marca')\n",
        "plt.ylabel('Sucursal')\n",
        "plt.show()"
      ],
      "metadata": {
        "colab": {
          "base_uri": "https://localhost:8080/",
          "height": 723
        },
        "id": "oizFZjeWMQBy",
        "outputId": "8c6dd836-a019-433f-9c25-a907f1cc7676"
      },
      "execution_count": null,
      "outputs": [
        {
          "output_type": "display_data",
          "data": {
            "text/plain": [
              "<Figure size 1000x600 with 2 Axes>"
            ],
            "image/png": "[encoded data removed]"
          },
          "metadata": {}
        }
      ]
    },
    {
      "cell_type": "code",
      "source": [
        "# Crear la tabla de contingencia\n",
        "tabla_contingencia = pd.crosstab(df_data['Proveedor'], df_data['Sucursal'])\n",
        "\n",
        "# Visualizar la tabla\n",
        "print(tabla_contingencia)"
      ],
      "metadata": {
        "colab": {
          "base_uri": "https://localhost:8080/"
        },
        "id": "hp5e68DEGUYH",
        "outputId": "7951dbac-b7bc-442a-9fcf-9d7b57b411f7"
      },
      "execution_count": null,
      "outputs": [
        {
          "output_type": "stream",
          "name": "stdout",
          "text": [
            "Sucursal                                   COCHABAMBA  LA PAZ  ORURO  \\\n",
            "Proveedor                                                              \n",
            "ABDIAS PATICK                                       7       0      0   \n",
            "ABELCO IMPORTADORA MAYORISTA                        3       0      0   \n",
            "BAUMANN SRL                                       332     186     67   \n",
            "BLEICHNER INDUSTRIA Y COMERCIO  S.A.               10       0      0   \n",
            "CABEZAS IMPORTACIONES Y REPRESENTACIONES          922     266    146   \n",
            "CARLOS SALAZAR                                     20       0      0   \n",
            "COBAR LUBRICANTES                                  11       0      0   \n",
            "COMERCIAL FAMA                                    198      41     58   \n",
            "COMERCIAL VOCAL                                    57      23     17   \n",
            "COMPANEX                                            3       0      0   \n",
            "CORONA                                              0       0      1   \n",
            "CRISANT SRL                                         5       0      0   \n",
            "CRISTHIAN IMPORTADOR                               30      24      5   \n",
            "DAJERS                                           1021     170    291   \n",
            "DISTRIBUIDORA CROWN                                25       0      0   \n",
            "DISTRIBUIDORA MAQKER                                1       0      1   \n",
            "FERRESXPRESS                                        5       0      0   \n",
            "FERROBLACK                                         49       0      7   \n",
            "FINISIERRA                                          3       2      0   \n",
            "FORZA SRL                                        1399    1042    443   \n",
            "GERARDO DE LA PAMPA                                 3       0      0   \n",
            "HANSA LTDA                                        504     101     13   \n",
            "IMPORTADORA RAMOS                                  10       6      4   \n",
            "INDUSTRIAS MACA SANTIVAÑEZ LTDA                    22       0      0   \n",
            "INTERVEST                                           3       0      0   \n",
            "KAPERN BOLIVIA SRL                                  3       0      0   \n",
            "KILA IMPORTACIONES                                145      63     45   \n",
            "LIJASBOL HERMES                                    12       2      1   \n",
            "MAMIER S.R.L.                                      10       7      3   \n",
            "MANU FACTURAS ROS.ALEXIS                            1       0      0   \n",
            "MIOMETAL S.R.L                                   1900     347    185   \n",
            "MUEBLETEK                                          22      13      3   \n",
            "PROVEEDOR NACIONAL                                  6       1      0   \n",
            "ROGHUR                                            623     143     89   \n",
            "ROYAL                                               1       2      1   \n",
            "SALCEDO IMPORTACIONES S.R.L.                     3200     525    612   \n",
            "SARUMADI S.R.L.                                    38      11      3   \n",
            "SUICH BOLIVIA                                       0       4      0   \n",
            "TERMODINAMICA LTDA                                 14       0      0   \n",
            "TOTAL TOOLS DISTRIBUTION EXPERTS                    4       0      0   \n",
            "TRADE BOLIVIA S.R.L.                               36       3      0   \n",
            "VADIKO                                            155      74     20   \n",
            "WAKO IMPORTACIONES Y REPRESENTACIONES SRL          26       0      0   \n",
            "XIMCRUZ                                             3       0      0   \n",
            "\n",
            "Sucursal                                   SANTA CRUZ  \n",
            "Proveedor                                              \n",
            "ABDIAS PATICK                                       0  \n",
            "ABELCO IMPORTADORA MAYORISTA                        2  \n",
            "BAUMANN SRL                                       222  \n",
            "BLEICHNER INDUSTRIA Y COMERCIO  S.A.                0  \n",
            "CABEZAS IMPORTACIONES Y REPRESENTACIONES          260  \n",
            "CARLOS SALAZAR                                      1  \n",
            "COBAR LUBRICANTES                                   0  \n",
            "COMERCIAL FAMA                                     82  \n",
            "COMERCIAL VOCAL                                    30  \n",
            "COMPANEX                                            0  \n",
            "CORONA                                              0  \n",
            "CRISANT SRL                                         0  \n",
            "CRISTHIAN IMPORTADOR                               11  \n",
            "DAJERS                                            362  \n",
            "DISTRIBUIDORA CROWN                                 2  \n",
            "DISTRIBUIDORA MAQKER                                1  \n",
            "FERRESXPRESS                                        0  \n",
            "FERROBLACK                                          1  \n",
            "FINISIERRA                                          3  \n",
            "FORZA SRL                                        2523  \n",
            "GERARDO DE LA PAMPA                                 0  \n",
            "HANSA LTDA                                         74  \n",
            "IMPORTADORA RAMOS                                   9  \n",
            "INDUSTRIAS MACA SANTIVAÑEZ LTDA                     0  \n",
            "INTERVEST                                           0  \n",
            "KAPERN BOLIVIA SRL                                  0  \n",
            "KILA IMPORTACIONES                                 43  \n",
            "LIJASBOL HERMES                                     1  \n",
            "MAMIER S.R.L.                                       8  \n",
            "MANU FACTURAS ROS.ALEXIS                            0  \n",
            "MIOMETAL S.R.L                                    356  \n",
            "MUEBLETEK                                          30  \n",
            "PROVEEDOR NACIONAL                                  0  \n",
            "ROGHUR                                            212  \n",
            "ROYAL                                               3  \n",
            "SALCEDO IMPORTACIONES S.R.L.                      574  \n",
            "SARUMADI S.R.L.                                    23  \n",
            "SUICH BOLIVIA                                       0  \n",
            "TERMODINAMICA LTDA                                  3  \n",
            "TOTAL TOOLS DISTRIBUTION EXPERTS                    0  \n",
            "TRADE BOLIVIA S.R.L.                                4  \n",
            "VADIKO                                             85  \n",
            "WAKO IMPORTACIONES Y REPRESENTACIONES SRL           0  \n",
            "XIMCRUZ                                             0  \n"
          ]
        }
      ]
    },
    {
      "cell_type": "markdown",
      "source": [
        "# DETECCION DE ANOMALIAS\n",
        "\n"
      ],
      "metadata": {
        "id": "3R2NxjcQZzvQ"
      }
    },
    {
      "cell_type": "markdown",
      "source": [
        "### Outliers en las variables numéricas\n",
        "\n",
        "No siempre se deben eliminar los *outliers* porque dependiendo de la variable numérica analizada estos pueden contener información importante.\n",
        "\n",
        "Creemos gráficas tipo \"boxplot\" de las columnas numéricas:"
      ],
      "metadata": {
        "id": "Wt_TO6yYX8at"
      }
    },
    {
      "cell_type": "code",
      "source": [
        "# Generar gráficas individuales pues las variables numéricas\n",
        "# están en rangos diferentes\n",
        "cols_num = ['Cantidad','PrecioCompra', 'PrecioVenta', 'PrecioFinal', 'ComisionUnit',\n",
        "            'ComisionTotal', 'Total','Utilidad']\n",
        "\n",
        "fig, ax = plt.subplots(nrows=8, ncols=1, figsize=(8,30))\n",
        "fig.subplots_adjust(hspace=0.5)\n",
        "\n",
        "for i, col in enumerate(cols_num):\n",
        "    sns.boxplot(x=col, data=df_data, ax=ax[i])\n",
        "    ax[i].set_title(col)"
      ],
      "metadata": {
        "colab": {
          "base_uri": "https://localhost:8080/"
        },
        "id": "DKVKsI93aRWx",
        "outputId": "3ba45f2b-5807-40cc-edae-1fa2746ddc19"
      },
      "execution_count": null,
      "outputs": [
        {
          "output_type": "display_data",
          "data": {
            "text/plain": [
              "<Figure size 800x3000 with 8 Axes>"
            ],
            "image/png": "[encoded data removed]"
          },
          "metadata": {}
        }
      ]
    },
    {
      "cell_type": "code",
      "source": [
        "# Eliminación de outliers\n",
        "df = df_data\n",
        "\n",
        "#función para eliminar outliers\n",
        "def remove_outliers_iqr(dataframe, columns):\n",
        "    for column in columns:\n",
        "        Q1 = dataframe[column].quantile(0.25)\n",
        "        Q3 = dataframe[column].quantile(0.75)\n",
        "        IQR = Q3 - Q1\n",
        "\n",
        "        # Calcular límites inferior y superior\n",
        "        lower_bound = Q1 - 1.5 * IQR\n",
        "        upper_bound = Q3 + 1.5 * IQR\n",
        "\n",
        "        # Filtrar los outliers\n",
        "        dataframe = dataframe[(dataframe[column] >= lower_bound) & (dataframe[column] <= upper_bound)]\n",
        "\n",
        "    return dataframe\n",
        "\n",
        "# Especificar las columnas a limpiar\n",
        "columnas_a_limpiar = ['Cantidad','Total', 'Utilidad','PrecioVenta','ComisionTotal']\n",
        "\n",
        "# Limpiar el DataFrame\n",
        "df_sin_outliers = remove_outliers_iqr(df, columnas_a_limpiar)\n",
        "\n",
        "print(f\"Nueva forma del DataFrame: {df_sin_outliers.shape}\")"
      ],
      "metadata": {
        "colab": {
          "base_uri": "https://localhost:8080/"
        },
        "outputId": "2c74a4ac-de57-4ec7-8645-fe69f97cbbb6",
        "id": "6BcOuuDdX8av"
      },
      "execution_count": null,
      "outputs": [
        {
          "output_type": "stream",
          "name": "stdout",
          "text": [
            "Nueva forma del DataFrame: (12355, 15)\n"
          ]
        }
      ]
    },
    {
      "cell_type": "code",
      "source": [
        "# Generar gráficas individuales pues las variables numéricas\n",
        "# están en rangos diferentes\n",
        "cols_num = ['Cantidad', 'PrecioCompra', 'PrecioVenta', 'PrecioFinal', 'ComisionUnit',\n",
        "            'ComisionTotal', 'Total','Utilidad']\n",
        "\n",
        "fig, ax = plt.subplots(nrows=8, ncols=1, figsize=(8,30))\n",
        "fig.subplots_adjust(hspace=0.5)\n",
        "\n",
        "for i, col in enumerate(cols_num):\n",
        "    sns.boxplot(x=col, data=df_sin_outliers, ax=ax[i])\n",
        "    ax[i].set_title(col)"
      ],
      "metadata": {
        "colab": {
          "base_uri": "https://localhost:8080/"
        },
        "id": "q0TnO8iCZ8a8",
        "outputId": "875cbbf5-7094-44ec-d19e-5352247c0950"
      },
      "execution_count": null,
      "outputs": [
        {
          "output_type": "display_data",
          "data": {
            "text/plain": [
              "<Figure size 800x3000 with 8 Axes>"
            ],
            "image/png": "[encoded data removed]"
          },
          "metadata": {}
        }
      ]
    },
    {
      "cell_type": "markdown",
      "source": [
        "# MACHINE LEARNING"
      ],
      "metadata": {
        "id": "IBx2f5dtNd7X"
      }
    },
    {
      "cell_type": "markdown",
      "source": [
        "### Preparacion del Modelo ML"
      ],
      "metadata": {
        "id": "7DR44pidiHQ4"
      }
    },
    {
      "cell_type": "code",
      "source": [
        "#Copia del dataset para las tecnicas de Machine Leraning\n",
        "df_ml = df_sin_outliers.copy()"
      ],
      "metadata": {
        "id": "cgPnojmF3bXU"
      },
      "execution_count": null,
      "outputs": []
    },
    {
      "cell_type": "code",
      "source": [
        "percentiles = df_ml['Utilidad'].quantile([0.25, 0.5, 0.75])\n",
        "print(percentiles)"
      ],
      "metadata": {
        "colab": {
          "base_uri": "https://localhost:8080/"
        },
        "id": "2F4lxUFc9Dl5",
        "outputId": "429de566-6697-4ceb-c093-899deb0a834c"
      },
      "execution_count": null,
      "outputs": [
        {
          "output_type": "stream",
          "name": "stdout",
          "text": [
            "0.25     6.6\n",
            "0.50    15.5\n",
            "0.75    49.4\n",
            "Name: Utilidad, dtype: float64\n"
          ]
        }
      ]
    },
    {
      "cell_type": "code",
      "source": [
        "# Definir los límites de los intervalos y las etiquetas\n",
        "bins = [-float('inf'), 6.50, 30, float('inf')]\n",
        "labels = ['bajo', 'medio', 'alto']\n",
        "\n",
        "# Crear la columna de datos discretos\n",
        "df_ml['Nivel_ventas'] = pd.cut(df_ml['Utilidad'], bins=bins, labels=labels)"
      ],
      "metadata": {
        "id": "pULwuBX_3Ya9"
      },
      "execution_count": null,
      "outputs": []
    },
    {
      "cell_type": "code",
      "source": [
        "df_ml['Nivel_ventas'].value_counts().plot(kind='bar')\n",
        "plt.title(\"Distribución de Nivel de Ventas\")\n",
        "plt.xlabel(\"Clase\")\n",
        "plt.ylabel(\"Frecuencia\")\n",
        "plt.show()"
      ],
      "metadata": {
        "colab": {
          "base_uri": "https://localhost:8080/",
          "height": 501
        },
        "id": "djmFjF0gAI7P",
        "outputId": "a5295824-4d95-4fd2-ac6b-bcaab46d2f2f"
      },
      "execution_count": null,
      "outputs": [
        {
          "output_type": "display_data",
          "data": {
            "text/plain": [
              "<Figure size 640x480 with 1 Axes>"
            ],
            "image/png": "[encoded data removed]"
          },
          "metadata": {}
        }
      ]
    },
    {
      "cell_type": "markdown",
      "source": [
        "### RandomForest Modelo ML"
      ],
      "metadata": {
        "id": "U2G9BcMdnWwH"
      }
    },
    {
      "cell_type": "code",
      "source": [
        "# usando Modelo randomForestClassifier\n",
        "from sklearn.ensemble import RandomForestClassifier\n",
        "from sklearn.model_selection import train_test_split\n",
        "from sklearn.metrics import accuracy_score, classification_report, confusion_matrix,f1_score\n",
        "\n",
        "# Convertir 'Marca' a variable categórica\n",
        "df_ml['Marca'] = pd.Categorical(df_ml['Marca'])\n",
        "\n",
        "# Preparar los datos\n",
        "# Dividir datos en entrenamiento y prueba\n",
        "X = df_ml[['Marca','Sucursal', 'PrecioVenta']]\n",
        "y = df_ml['Nivel_ventas']\n",
        "X_train, X_test, y_train, y_test = train_test_split(X, y, test_size=0.2, random_state=42)\n",
        "\n",
        "# Convertir la columna 'Marca' a variables dummy (codificación one-hot)\n",
        "# Crear variables dummy para la columna 'Marca' en X_train\n",
        "dummies_train = pd.get_dummies(X_train['Marca'], drop_first=True)\n",
        "X_train = pd.concat([X_train.drop('Marca', axis=1), dummies_train], axis=1)\n",
        "\n",
        "# Crear variables dummy para la columna 'Sucursal' en X_train\n",
        "dummies_train = pd.get_dummies(X_train['Sucursal'], drop_first=True)\n",
        "X_train = pd.concat([X_train.drop('Sucursal', axis=1), dummies_train], axis=1)\n",
        "\n",
        "# Crear variables dummy para la columna 'Marca' en X_test\n",
        "dummies_test = pd.get_dummies(X_test['Marca'], drop_first=True)\n",
        "X_test = pd.concat([X_test.drop('Marca', axis=1), dummies_test], axis=1)\n",
        "\n",
        "# Crear variables dummy para la columna 'Sucursal' en X_test\n",
        "dummies_test = pd.get_dummies(X_test['Sucursal'], drop_first=True)\n",
        "X_test = pd.concat([X_test.drop('Sucursal', axis=1), dummies_test], axis=1)\n",
        "\n",
        "# Asegurar que X_train y X_test tengan las mismas columnas\n",
        "missing_cols = set(X_train.columns) - set(X_test.columns)\n",
        "for col in missing_cols:\n",
        "    X_test[col] = 0\n",
        "X_test = X_test[X_train.columns]\n",
        "\n",
        "# Entrenar el modelo de Random Forest\n",
        "rf_model = RandomForestClassifier(random_state=42, n_estimators=100)\n",
        "rf_model.fit(X_train, y_train)\n",
        "\n",
        "\n",
        "# Evaluar el modelo\n",
        "y_pred = rf_model.predict(X_test)\n",
        "\n",
        "# Reporte de clasificación\n",
        "print(\"Reporte de clasificación:\")\n",
        "print(classification_report(y_test, y_pred))\n",
        "\n",
        "# Calcular precisión\n",
        "print(\"===== Calcular precisión ====\")\n",
        "accuracy = accuracy_score(y_test, y_pred)\n",
        "print(f'accuracy: {accuracy:.2f}\\n')\n",
        "\n",
        "f1 = f1_score(y_test, y_pred, average='weighted')  # 'weighted' para manejar clases desbalanceadas\n",
        "print(f'F1-Score: {f1:.2f}\\n')\n",
        "\n",
        "# Matriz de confusión\n",
        "cm = confusion_matrix(y_test, y_pred)\n",
        "cm_df = pd.DataFrame(cm, index=rf_model.classes_, columns=rf_model.classes_)\n",
        "print(\"Matriz de Confusión:\\n\", cm_df)"
      ],
      "metadata": {
        "colab": {
          "base_uri": "https://localhost:8080/"
        },
        "id": "r14sYXVJ3YrY",
        "outputId": "65a5b3a8-c0b2-4e56-b3c9-f58cc170e4b0"
      },
      "execution_count": null,
      "outputs": [
        {
          "output_type": "stream",
          "name": "stdout",
          "text": [
            "Reporte de clasificación:\n",
            "              precision    recall  f1-score   support\n",
            "\n",
            "        alto       0.93      0.89      0.91       865\n",
            "        bajo       0.90      0.83      0.86       614\n",
            "       medio       0.83      0.90      0.87       992\n",
            "\n",
            "    accuracy                           0.88      2471\n",
            "   macro avg       0.89      0.88      0.88      2471\n",
            "weighted avg       0.88      0.88      0.88      2471\n",
            "\n",
            "===== Calcular precisión ====\n",
            "accuracy: 0.88\n",
            "\n",
            "F1-Score: 0.88\n",
            "\n",
            "Matriz de Confusión:\n",
            "        alto  bajo  medio\n",
            "alto    773     6     86\n",
            "bajo     10   509     95\n",
            "medio    45    51    896\n"
          ]
        }
      ]
    },
    {
      "cell_type": "markdown",
      "source": [
        "### LogisticRegression del Modelo ML"
      ],
      "metadata": {
        "id": "Arlw0l0gixjP"
      }
    },
    {
      "cell_type": "code",
      "source": [
        "#Usando modelo LogisticRegression\n",
        "from sklearn.linear_model import LogisticRegression\n",
        "\n",
        "# Convertir marca a variable categórica\n",
        "#df_ml['Marca'] = pd.Categorical(df_ml['Marca'])\n",
        "\n",
        "#Preparar datos\n",
        "\n",
        "# Dividir datos en entrenamiento y prueba\n",
        "X = df_ml[['Marca','PrecioVenta']]\n",
        "y = df_ml['Nivel_ventas']\n",
        "X_train, X_test, y_train, y_test = train_test_split(X, y, test_size=0.2, random_state=42)\n",
        "\n",
        "# Convertir marca a variable numérica\n",
        "# Crear variables dummy para la columna 'Marca' sin asignarla directamente a 'X_train['Marca']'\n",
        "dummies = pd.get_dummies(X_train['Marca'], drop_first=True)\n",
        "\n",
        "# Concatenar las variables dummy con el DataFrame original y eliminar la columna original 'Marca'\n",
        "X_train = pd.concat([X_train.drop('Marca', axis=1), dummies], axis=1)\n",
        "\n",
        "# Generar variables dummy para la columna 'Marca' en X_test\n",
        "dummies_test = pd.get_dummies(X_test['Marca'], drop_first=True)\n",
        "\n",
        "# Concatenar las variables dummy con el DataFrame original X_test y eliminar la columna 'Marca'\n",
        "X_test = pd.concat([X_test.drop('Marca', axis=1), dummies_test], axis=1)\n",
        "\n",
        "\n",
        "#Entrenar modelo\n",
        "\n",
        "# Entrenar modelo de regresión logística\n",
        "model = LogisticRegression()\n",
        "model.fit(X_train, y_train)\n",
        "\n",
        "#Evaluar modelo\n",
        "\n",
        "# Predecir resultados\n",
        "y_pred = model.predict(X_test)\n",
        "\n",
        "# Evaluar precisión\n",
        "accuracy = accuracy_score(y_test, y_pred)\n",
        "print(f'Precisión: {accuracy:.2f}\\n')\n",
        "\n",
        "f1 = f1_score(y_test, y_pred, average='weighted')\n",
        "print(f'F1-Score: {f1:.2f}\\n')\n",
        "\n",
        "# Evaluar clasificación\n",
        "print(classification_report(y_test, y_pred))\n",
        "\n",
        "# Evaluar Matriz de confusión\n",
        "cm = confusion_matrix(y_test, y_pred)\n",
        "cm_df = pd.DataFrame(cm, index=model.classes_, columns=model.classes_)\n",
        "print(\"Matriz de Confusión:\\n\", cm_df)\n",
        "\n",
        "#Interpretar resultados\n",
        "\n",
        "# Coeficientes del modelo\n",
        "#print(model.coef_)\n",
        "\n",
        "# Intercept del modelo\n",
        "print(\"Intercept:\")\n",
        "print(model.intercept_)"
      ],
      "metadata": {
        "colab": {
          "base_uri": "https://localhost:8080/"
        },
        "id": "GA4XnWiv2r-1",
        "outputId": "fc16bccc-d7d7-4c24-c665-cb9a5ce82ba6"
      },
      "execution_count": null,
      "outputs": [
        {
          "output_type": "stream",
          "name": "stdout",
          "text": [
            "Precisión: 0.85\n",
            "\n",
            "F1-Score: 0.85\n",
            "\n",
            "              precision    recall  f1-score   support\n",
            "\n",
            "        alto       0.96      0.83      0.89       865\n",
            "        bajo       0.82      0.84      0.83       614\n",
            "       medio       0.78      0.86      0.82       992\n",
            "\n",
            "    accuracy                           0.85      2471\n",
            "   macro avg       0.85      0.84      0.85      2471\n",
            "weighted avg       0.85      0.85      0.85      2471\n",
            "\n",
            "Matriz de Confusión:\n",
            "        alto  bajo  medio\n",
            "alto    715     0    150\n",
            "bajo      5   517     92\n",
            "medio    26   110    856\n",
            "Intercept:\n",
            "[-3.00695631  2.33559868  0.67135762]\n"
          ]
        },
        {
          "output_type": "stream",
          "name": "stderr",
          "text": [
            "/usr/local/lib/python3.11/dist-packages/sklearn/linear_model/_logistic.py:465: ConvergenceWarning: lbfgs failed to converge (status=1):\n",
            "STOP: TOTAL NO. of ITERATIONS REACHED LIMIT.\n",
            "\n",
            "Increase the number of iterations (max_iter) or scale the data as shown in:\n",
            "    https://scikit-learn.org/stable/modules/preprocessing.html\n",
            "Please also refer to the documentation for alternative solver options:\n",
            "    https://scikit-learn.org/stable/modules/linear_model.html#logistic-regression\n",
            "  n_iter_i = _check_optimize_result(\n"
          ]
        }
      ]
    },
    {
      "cell_type": "markdown",
      "source": [
        "### resultados"
      ],
      "metadata": {
        "id": "K8mSJs5F1lfb"
      }
    },
    {
      "cell_type": "code",
      "source": [
        "# Importancia de las características\n",
        "print(\"Importancia de características:\")\n",
        "feature_importances = pd.DataFrame({'Característica': X_t.columns,\n",
        "                                    'Importancia': rf_model.feature_importances_})\n",
        "print(feature_importances.sort_values(by='Importancia', ascending=False))"
      ],
      "metadata": {
        "id": "XfGhJHo71sHB"
      },
      "execution_count": null,
      "outputs": []
    },
    {
      "cell_type": "code",
      "source": [
        "#Exportar datos procesados para la fase de Visualizaciones.\n",
        "from google.colab import files\n",
        "\n",
        "df_sin_outliers.to_excel('VentasRangoLimpio.xlsx')\n",
        "files.download('VentasRangoLimpio.xlsx')"
      ],
      "metadata": {
        "id": "MrkCi6tU1vLA"
      },
      "execution_count": null,
      "outputs": []
    },
    {
      "cell_type": "code",
      "source": [
        "# usando Modelo randomForestClassifier\n",
        "from sklearn.ensemble import RandomForestClassifier\n",
        "from sklearn.model_selection import train_test_split\n",
        "from sklearn.metrics import accuracy_score, classification_report, confusion_matrix,f1_score\n",
        "\n",
        "# Convertir 'Marca' a variable categórica\n",
        "df_ml['Marca'] = pd.Categorical(df_ml['Marca'])\n",
        "\n",
        "# Preparar los datos\n",
        "# Dividir datos en entrenamiento y prueba\n",
        "X = df_ml[['Marca','Sucursal', 'PrecioVenta']]\n",
        "y = df_ml['Nivel_ventas']\n",
        "X_train, X_test, y_train, y_test = train_test_split(X, y, test_size=0.2, random_state=42)\n",
        "\n",
        "# Convertir la columna 'Marca' a variables dummy (codificación one-hot)\n",
        "# Crear variables dummy para la columna 'Marca' en X_train\n",
        "dummies_train = pd.get_dummies(X_train['Marca'], drop_first=True)\n",
        "X_train = pd.concat([X_train.drop('Marca', axis=1), dummies_train], axis=1)\n",
        "\n",
        "# Crear variables dummy para la columna 'Sucursal' en X_train\n",
        "dummies_train = pd.get_dummies(X_train['Sucursal'], drop_first=True)\n",
        "X_train = pd.concat([X_train.drop('Sucursal', axis=1), dummies_train], axis=1)\n",
        "\n",
        "# Crear variables dummy para la columna 'Marca' en X_test\n",
        "dummies_test = pd.get_dummies(X_test['Marca'], drop_first=True)\n",
        "X_test = pd.concat([X_test.drop('Marca', axis=1), dummies_test], axis=1)\n",
        "\n",
        "# Crear variables dummy para la columna 'Sucursal' en X_test\n",
        "dummies_test = pd.get_dummies(X_test['Sucursal'], drop_first=True)\n",
        "X_test = pd.concat([X_test.drop('Sucursal', axis=1), dummies_test], axis=1)\n",
        "\n",
        "# Asegurar que X_train y X_test tengan las mismas columnas\n",
        "missing_cols = set(X_train.columns) - set(X_test.columns)\n",
        "for col in missing_cols:\n",
        "    X_test[col] = 0\n",
        "X_test = X_test[X_train.columns]\n",
        "\n",
        "# Entrenar el modelo de Random Forest\n",
        "#rf_model = RandomForestClassifier(random_state=42, n_estimators=100)\n",
        "#rf_model.fit(X_train, y_train)\n",
        "\n",
        "\n",
        "# Listas para almacenar resultados\n",
        "train_accuracies = []\n",
        "test_accuracies = []\n",
        "\n",
        "# Entrenar el modelo y recoger las precisiones\n",
        "for n_estimators in range(1, 101):\n",
        "    rf_model = RandomForestClassifier(random_state=42, n_estimators=n_estimators)\n",
        "    rf_model.fit(X_train, y_train)\n",
        "\n",
        "    train_pred = rf_model.predict(X_train)\n",
        "    test_pred = rf_model.predict(X_test)\n",
        "\n",
        "    train_accuracies.append(accuracy_score(y_train, train_pred))\n",
        "    test_accuracies.append(accuracy_score(y_test, test_pred))\n",
        "\n",
        "# Graficar las precisiones\n",
        "plt.figure(figsize=(10, 6))\n",
        "plt.plot(range(1, 101), train_accuracies, label='Precisión de Entrenamiento', color='blue')\n",
        "plt.plot(range(1, 101), test_accuracies, label='Precisión de Prueba', color='orange')\n",
        "plt.title('Precisión del Modelo Random Forest')\n",
        "plt.xlabel('Número de Árboles (n_estimators)')\n",
        "plt.ylabel('Precisión')\n",
        "plt.legend()\n",
        "plt.grid()\n",
        "plt.show()"
      ],
      "metadata": {
        "colab": {
          "base_uri": "https://localhost:8080/",
          "height": 886
        },
        "id": "_Dm8jp3WvVNc",
        "outputId": "0bd83c4a-cd3b-4ba2-ea8c-082f1268efd2"
      },
      "execution_count": null,
      "outputs": [
        {
          "output_type": "error",
          "ename": "ValueError",
          "evalue": "x and y must have same first dimension, but have shapes (55,) and (9884, 95)",
          "traceback": [
            "\u001b[0;31m---------------------------------------------------------------------------\u001b[0m",
            "\u001b[0;31mValueError\u001b[0m                                Traceback (most recent call last)",
            "\u001b[0;32m<ipython-input-39-b69044f98d6e>\u001b[0m in \u001b[0;36m<cell line: 0>\u001b[0;34m()\u001b[0m\n\u001b[1;32m      1\u001b[0m \u001b[0;31m# Graficar las precisiones\u001b[0m\u001b[0;34m\u001b[0m\u001b[0;34m\u001b[0m\u001b[0m\n\u001b[1;32m      2\u001b[0m \u001b[0mplt\u001b[0m\u001b[0;34m.\u001b[0m\u001b[0mfigure\u001b[0m\u001b[0;34m(\u001b[0m\u001b[0mfigsize\u001b[0m\u001b[0;34m=\u001b[0m\u001b[0;34m(\u001b[0m\u001b[0;36m10\u001b[0m\u001b[0;34m,\u001b[0m \u001b[0;36m6\u001b[0m\u001b[0;34m)\u001b[0m\u001b[0;34m)\u001b[0m\u001b[0;34m\u001b[0m\u001b[0;34m\u001b[0m\u001b[0m\n\u001b[0;32m----> 3\u001b[0;31m \u001b[0mplt\u001b[0m\u001b[0;34m.\u001b[0m\u001b[0mplot\u001b[0m\u001b[0;34m(\u001b[0m\u001b[0mrange\u001b[0m\u001b[0;34m(\u001b[0m\u001b[0;36m45\u001b[0m\u001b[0;34m,\u001b[0m \u001b[0;36m100\u001b[0m\u001b[0;34m)\u001b[0m\u001b[0;34m,\u001b[0m \u001b[0mX_train\u001b[0m\u001b[0;34m,\u001b[0m \u001b[0mlabel\u001b[0m\u001b[0;34m=\u001b[0m\u001b[0;34m'Precisión de Entrenamiento'\u001b[0m\u001b[0;34m,\u001b[0m \u001b[0mcolor\u001b[0m\u001b[0;34m=\u001b[0m\u001b[0;34m'blue'\u001b[0m\u001b[0;34m)\u001b[0m\u001b[0;34m\u001b[0m\u001b[0;34m\u001b[0m\u001b[0m\n\u001b[0m\u001b[1;32m      4\u001b[0m \u001b[0mplt\u001b[0m\u001b[0;34m.\u001b[0m\u001b[0mplot\u001b[0m\u001b[0;34m(\u001b[0m\u001b[0mrange\u001b[0m\u001b[0;34m(\u001b[0m\u001b[0;36m1\u001b[0m\u001b[0;34m,\u001b[0m \u001b[0;36m101\u001b[0m\u001b[0;34m)\u001b[0m\u001b[0;34m,\u001b[0m \u001b[0mX_test\u001b[0m\u001b[0;34m,\u001b[0m \u001b[0mlabel\u001b[0m\u001b[0;34m=\u001b[0m\u001b[0;34m'Precisión de Prueba'\u001b[0m\u001b[0;34m,\u001b[0m \u001b[0mcolor\u001b[0m\u001b[0;34m=\u001b[0m\u001b[0;34m'orange'\u001b[0m\u001b[0;34m)\u001b[0m\u001b[0;34m\u001b[0m\u001b[0;34m\u001b[0m\u001b[0m\n\u001b[1;32m      5\u001b[0m \u001b[0mplt\u001b[0m\u001b[0;34m.\u001b[0m\u001b[0mtitle\u001b[0m\u001b[0;34m(\u001b[0m\u001b[0;34m'Precisión del Modelo Random Forest'\u001b[0m\u001b[0;34m)\u001b[0m\u001b[0;34m\u001b[0m\u001b[0;34m\u001b[0m\u001b[0m\n",
            "\u001b[0;32m/usr/local/lib/python3.11/dist-packages/matplotlib/pyplot.py\u001b[0m in \u001b[0;36mplot\u001b[0;34m(scalex, scaley, data, *args, **kwargs)\u001b[0m\n\u001b[1;32m   3827\u001b[0m     \u001b[0;34m**\u001b[0m\u001b[0mkwargs\u001b[0m\u001b[0;34m,\u001b[0m\u001b[0;34m\u001b[0m\u001b[0;34m\u001b[0m\u001b[0m\n\u001b[1;32m   3828\u001b[0m ) -> list[Line2D]:\n\u001b[0;32m-> 3829\u001b[0;31m     return gca().plot(\n\u001b[0m\u001b[1;32m   3830\u001b[0m         \u001b[0;34m*\u001b[0m\u001b[0margs\u001b[0m\u001b[0;34m,\u001b[0m\u001b[0;34m\u001b[0m\u001b[0;34m\u001b[0m\u001b[0m\n\u001b[1;32m   3831\u001b[0m         \u001b[0mscalex\u001b[0m\u001b[0;34m=\u001b[0m\u001b[0mscalex\u001b[0m\u001b[0;34m,\u001b[0m\u001b[0;34m\u001b[0m\u001b[0;34m\u001b[0m\u001b[0m\n",
            "\u001b[0;32m/usr/local/lib/python3.11/dist-packages/matplotlib/axes/_axes.py\u001b[0m in \u001b[0;36mplot\u001b[0;34m(self, scalex, scaley, data, *args, **kwargs)\u001b[0m\n\u001b[1;32m   1775\u001b[0m         \"\"\"\n\u001b[1;32m   1776\u001b[0m         \u001b[0mkwargs\u001b[0m \u001b[0;34m=\u001b[0m \u001b[0mcbook\u001b[0m\u001b[0;34m.\u001b[0m\u001b[0mnormalize_kwargs\u001b[0m\u001b[0;34m(\u001b[0m\u001b[0mkwargs\u001b[0m\u001b[0;34m,\u001b[0m \u001b[0mmlines\u001b[0m\u001b[0;34m.\u001b[0m\u001b[0mLine2D\u001b[0m\u001b[0;34m)\u001b[0m\u001b[0;34m\u001b[0m\u001b[0;34m\u001b[0m\u001b[0m\n\u001b[0;32m-> 1777\u001b[0;31m         \u001b[0mlines\u001b[0m \u001b[0;34m=\u001b[0m \u001b[0;34m[\u001b[0m\u001b[0;34m*\u001b[0m\u001b[0mself\u001b[0m\u001b[0;34m.\u001b[0m\u001b[0m_get_lines\u001b[0m\u001b[0;34m(\u001b[0m\u001b[0mself\u001b[0m\u001b[0;34m,\u001b[0m \u001b[0;34m*\u001b[0m\u001b[0margs\u001b[0m\u001b[0;34m,\u001b[0m \u001b[0mdata\u001b[0m\u001b[0;34m=\u001b[0m\u001b[0mdata\u001b[0m\u001b[0;34m,\u001b[0m \u001b[0;34m**\u001b[0m\u001b[0mkwargs\u001b[0m\u001b[0;34m)\u001b[0m\u001b[0;34m]\u001b[0m\u001b[0;34m\u001b[0m\u001b[0;34m\u001b[0m\u001b[0m\n\u001b[0m\u001b[1;32m   1778\u001b[0m         \u001b[0;32mfor\u001b[0m \u001b[0mline\u001b[0m \u001b[0;32min\u001b[0m \u001b[0mlines\u001b[0m\u001b[0;34m:\u001b[0m\u001b[0;34m\u001b[0m\u001b[0;34m\u001b[0m\u001b[0m\n\u001b[1;32m   1779\u001b[0m             \u001b[0mself\u001b[0m\u001b[0;34m.\u001b[0m\u001b[0madd_line\u001b[0m\u001b[0;34m(\u001b[0m\u001b[0mline\u001b[0m\u001b[0;34m)\u001b[0m\u001b[0;34m\u001b[0m\u001b[0;34m\u001b[0m\u001b[0m\n",
            "\u001b[0;32m/usr/local/lib/python3.11/dist-packages/matplotlib/axes/_base.py\u001b[0m in \u001b[0;36m__call__\u001b[0;34m(self, axes, data, return_kwargs, *args, **kwargs)\u001b[0m\n\u001b[1;32m    295\u001b[0m                 \u001b[0mthis\u001b[0m \u001b[0;34m+=\u001b[0m \u001b[0margs\u001b[0m\u001b[0;34m[\u001b[0m\u001b[0;36m0\u001b[0m\u001b[0;34m]\u001b[0m\u001b[0;34m,\u001b[0m\u001b[0;34m\u001b[0m\u001b[0;34m\u001b[0m\u001b[0m\n\u001b[1;32m    296\u001b[0m                 \u001b[0margs\u001b[0m \u001b[0;34m=\u001b[0m \u001b[0margs\u001b[0m\u001b[0;34m[\u001b[0m\u001b[0;36m1\u001b[0m\u001b[0;34m:\u001b[0m\u001b[0;34m]\u001b[0m\u001b[0;34m\u001b[0m\u001b[0;34m\u001b[0m\u001b[0m\n\u001b[0;32m--> 297\u001b[0;31m             yield from self._plot_args(\n\u001b[0m\u001b[1;32m    298\u001b[0m                 \u001b[0maxes\u001b[0m\u001b[0;34m,\u001b[0m \u001b[0mthis\u001b[0m\u001b[0;34m,\u001b[0m \u001b[0mkwargs\u001b[0m\u001b[0;34m,\u001b[0m \u001b[0mambiguous_fmt_datakey\u001b[0m\u001b[0;34m=\u001b[0m\u001b[0mambiguous_fmt_datakey\u001b[0m\u001b[0;34m,\u001b[0m\u001b[0;34m\u001b[0m\u001b[0;34m\u001b[0m\u001b[0m\n\u001b[1;32m    299\u001b[0m                 \u001b[0mreturn_kwargs\u001b[0m\u001b[0;34m=\u001b[0m\u001b[0mreturn_kwargs\u001b[0m\u001b[0;34m\u001b[0m\u001b[0;34m\u001b[0m\u001b[0m\n",
            "\u001b[0;32m/usr/local/lib/python3.11/dist-packages/matplotlib/axes/_base.py\u001b[0m in \u001b[0;36m_plot_args\u001b[0;34m(self, axes, tup, kwargs, return_kwargs, ambiguous_fmt_datakey)\u001b[0m\n\u001b[1;32m    492\u001b[0m \u001b[0;34m\u001b[0m\u001b[0m\n\u001b[1;32m    493\u001b[0m         \u001b[0;32mif\u001b[0m \u001b[0mx\u001b[0m\u001b[0;34m.\u001b[0m\u001b[0mshape\u001b[0m\u001b[0;34m[\u001b[0m\u001b[0;36m0\u001b[0m\u001b[0;34m]\u001b[0m \u001b[0;34m!=\u001b[0m \u001b[0my\u001b[0m\u001b[0;34m.\u001b[0m\u001b[0mshape\u001b[0m\u001b[0;34m[\u001b[0m\u001b[0;36m0\u001b[0m\u001b[0;34m]\u001b[0m\u001b[0;34m:\u001b[0m\u001b[0;34m\u001b[0m\u001b[0;34m\u001b[0m\u001b[0m\n\u001b[0;32m--> 494\u001b[0;31m             raise ValueError(f\"x and y must have same first dimension, but \"\n\u001b[0m\u001b[1;32m    495\u001b[0m                              f\"have shapes {x.shape} and {y.shape}\")\n\u001b[1;32m    496\u001b[0m         \u001b[0;32mif\u001b[0m \u001b[0mx\u001b[0m\u001b[0;34m.\u001b[0m\u001b[0mndim\u001b[0m \u001b[0;34m>\u001b[0m \u001b[0;36m2\u001b[0m \u001b[0;32mor\u001b[0m \u001b[0my\u001b[0m\u001b[0;34m.\u001b[0m\u001b[0mndim\u001b[0m \u001b[0;34m>\u001b[0m \u001b[0;36m2\u001b[0m\u001b[0;34m:\u001b[0m\u001b[0;34m\u001b[0m\u001b[0;34m\u001b[0m\u001b[0m\n",
            "\u001b[0;31mValueError\u001b[0m: x and y must have same first dimension, but have shapes (55,) and (9884, 95)"
          ]
        },
        {
          "output_type": "display_data",
          "data": {
            "text/plain": [
              "<Figure size 1000x600 with 1 Axes>"
            ],
            "image/png": "[encoded data removed]"
          },
          "metadata": {}
        }
      ]
    },
    {
      "cell_type": "code",
      "source": [
        "import pandas as pd\n",
        "import numpy as np\n",
        "import matplotlib.pyplot as plt\n",
        "from sklearn.ensemble import RandomForestClassifier\n",
        "from sklearn.model_selection import train_test_split, GridSearchCV\n",
        "from sklearn.metrics import accuracy_score, classification_report, confusion_matrix, f1_score\n",
        "\n",
        "# Convertir 'Marca' a variable categórica\n",
        "df_ml['Marca'] = pd.Categorical(df_ml['Marca'])\n",
        "\n",
        "# Preparar los datos\n",
        "X = df_ml[['Marca', 'Sucursal', 'PrecioVenta']]\n",
        "y = df_ml['Nivel_ventas']\n",
        "X_train, X_test, y_train, y_test = train_test_split(X, y, test_size=0.2, random_state=42)\n",
        "\n",
        "# Convertir la columna 'Marca' y 'Sucursal' a variables dummy\n",
        "X_train = pd.get_dummies(X_train, drop_first=True)\n",
        "X_test = pd.get_dummies(X_test, drop_first=True)\n",
        "\n",
        "# Asegurar que X_train y X_test tengan las mismas columnas\n",
        "missing_cols = set(X_train.columns) - set(X_test.columns)\n",
        "for col in missing_cols:\n",
        "    X_test[col] = 0\n",
        "X_test = X_test[X_train.columns]\n",
        "\n",
        "# Definir el modelo Random Forest\n",
        "rf_model = RandomForestClassifier(random_state=42)\n",
        "\n",
        "# Definir los parámetros para la búsqueda\n",
        "param_grid = {\n",
        "    'n_estimators': [50, 100, 150, 200],\n",
        "    'max_depth': [None, 10, 20, 30],\n",
        "    'min_samples_split': [2, 5, 10],\n",
        "    'min_samples_leaf': [1, 2, 4]\n",
        "}\n",
        "\n",
        "# Realizar la búsqueda de hiperparámetros\n",
        "grid_search = GridSearchCV(estimator=rf_model, param_grid=param_grid,\n",
        "                           cv=5, n_jobs=-1, verbose=2, scoring='accuracy')\n",
        "grid_search.fit(X_train, y_train)\n",
        "\n",
        "# Mostrar los mejores parámetros encontrados\n",
        "print(\"Mejores parámetros:\", grid_search.best_params_)\n",
        "\n",
        "# Entrenar el modelo con los mejores parámetros\n",
        "best_rf_model = grid_search.best_estimator_\n",
        "best_rf_model.fit(X_train, y_train)\n",
        "\n",
        "# Realizar predicciones y evaluar\n",
        "train_pred = best_rf_model.predict(X_train)\n",
        "test_pred = best_rf_model.predict(X_test)\n",
        "\n",
        "print(\"Precisión de Entrenamiento:\", accuracy_score(y_train, train_pred))\n",
        "print(\"Precisión de Prueba:\", accuracy_score(y_test, test_pred))\n",
        "print(classification_report(y_test, test_pred))\n",
        "\n",
        "# Graficar la matriz de confusión\n",
        "conf_matrix = confusion_matrix(y_test, test_pred)\n",
        "plt.figure(figsize=(8, 6))\n",
        "plt.imshow(conf_matrix, interpolation='nearest', cmap=plt.cm.Blues)\n",
        "plt.title('Matriz de Confusión')\n",
        "plt.colorbar()\n",
        "tick_marks = np.arange(len(np.unique(y)))\n",
        "plt.xticks(tick_marks, np.unique(y))\n",
        "plt.yticks(tick_marks, np.unique(y))\n",
        "plt.ylabel('Etiqueta Verdadera')\n",
        "plt.xlabel('Etiqueta Predicha')\n",
        "plt.show()"
      ],
      "metadata": {
        "colab": {
          "base_uri": "https://localhost:8080/",
          "height": 822
        },
        "id": "OrWHCCeC0I63",
        "outputId": "6bc62545-baf3-4c3e-c4ec-35fb742cc779"
      },
      "execution_count": null,
      "outputs": [
        {
          "output_type": "stream",
          "name": "stdout",
          "text": [
            "Fitting 5 folds for each of 144 candidates, totalling 720 fits\n",
            "Mejores parámetros: {'max_depth': 20, 'min_samples_leaf': 1, 'min_samples_split': 5, 'n_estimators': 150}\n",
            "Precisión de Entrenamiento: 0.8889113719142048\n",
            "Precisión de Prueba: 0.8891137191420477\n",
            "              precision    recall  f1-score   support\n",
            "\n",
            "        alto       0.94      0.91      0.92       865\n",
            "        bajo       0.92      0.82      0.87       614\n",
            "       medio       0.83      0.92      0.87       992\n",
            "\n",
            "    accuracy                           0.89      2471\n",
            "   macro avg       0.90      0.88      0.89      2471\n",
            "weighted avg       0.89      0.89      0.89      2471\n",
            "\n"
          ]
        },
        {
          "output_type": "display_data",
          "data": {
            "text/plain": [
              "<Figure size 800x600 with 2 Axes>"
            ],
            "image/png": "[encoded data removed]"
          },
          "metadata": {}
        }
      ]
    },
    {
      "cell_type": "markdown",
      "source": [
        "### REvisar"
      ],
      "metadata": {
        "id": "1zHeLgUKimKo"
      }
    },
    {
      "cell_type": "code",
      "source": [
        "# Agrupar por cliente y calcular las métricas\n",
        "client_data = df_ml.groupby('Cliente').agg(\n",
        "    total_gastado=('Total', 'sum'),\n",
        "    frecuencia_compras=('Total', 'count'),\n",
        "    promedio_gastado=('Total', 'mean')\n",
        ").reset_index()"
      ],
      "metadata": {
        "id": "bql5b5ajuG2a"
      },
      "execution_count": null,
      "outputs": []
    },
    {
      "cell_type": "code",
      "source": [
        "from sklearn.preprocessing import StandardScaler\n",
        "\n",
        "# Normalizar las características seleccionadas\n",
        "scaler = StandardScaler()\n",
        "client_data[['total_gastado', 'frecuencia_compras', 'promedio_gastado']] = scaler.fit_transform(\n",
        "    client_data[['total_gastado', 'frecuencia_compras', 'promedio_gastado']]\n",
        ")"
      ],
      "metadata": {
        "id": "uQESYHIKuij-"
      },
      "execution_count": null,
      "outputs": []
    },
    {
      "cell_type": "code",
      "source": [
        "from sklearn.cluster import KMeans\n",
        "\n",
        "# Definir el número de clusters (puedes experimentar con este valor)\n",
        "n_clusters = 5  # Por ejemplo, 2 grupos: mejores y peores clientes\n",
        "\n",
        "# Aplicar K-Means\n",
        "kmeans = KMeans(n_clusters=n_clusters, random_state=42)\n",
        "client_data['cluster'] = kmeans.fit_predict(client_data[['total_gastado', 'frecuencia_compras', 'promedio_gastado']])"
      ],
      "metadata": {
        "id": "-Qc1f13ZuoR-"
      },
      "execution_count": null,
      "outputs": []
    },
    {
      "cell_type": "code",
      "source": [
        "# Ver la distribución de clientes en cada grupo\n",
        "print(client_data.groupby('cluster').agg({\n",
        "    'Cliente': 'count',\n",
        "    'total_gastado': 'mean',\n",
        "    'frecuencia_compras': 'mean',\n",
        "    'promedio_gastado': 'mean'\n",
        "}))"
      ],
      "metadata": {
        "id": "2uoYd9ESuqLO"
      },
      "execution_count": null,
      "outputs": []
    },
    {
      "cell_type": "code",
      "source": [
        "import matplotlib.pyplot as plt\n",
        "import seaborn as sns\n",
        "\n",
        "plt.figure(figsize=(10, 6))\n",
        "sns.scatterplot(data=df_sin_outliers, x='frecuencia_compras', y='total_gastado', hue='cluster', palette='viridis')\n",
        "plt.title('Agrupación de Clientes')\n",
        "plt.xlabel('Frecuencia de Compras')\n",
        "plt.ylabel('Total Gastado')\n",
        "plt.show()"
      ],
      "metadata": {
        "id": "imyN19Llu1z2"
      },
      "execution_count": null,
      "outputs": []
    }
  ]
}